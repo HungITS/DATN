{
 "cells": [
  {
   "cell_type": "markdown",
   "id": "1df32d3c",
   "metadata": {},
   "source": [
    "### Set up"
   ]
  },
  {
   "cell_type": "code",
   "execution_count": 1,
   "id": "5d696562",
   "metadata": {},
   "outputs": [],
   "source": [
    "import os\n",
    "import sys\n",
    "\n",
    "\n",
    "project_root = os.path.abspath(os.path.join(os.getcwd(), '..'))  # lên 1 cấp từ notebooks/\n",
    "if project_root not in sys.path:\n",
    "    sys.path.append(project_root)\n",
    "\n",
    "from utils.config_loader import load_config\n",
    "\n",
    "config = load_config(\"/home/hungits/Study/DATN/Project/config/s3_config.yaml\")\n",
    "access_key = config[\"aws_access_key_id\"]\n",
    "secret_key = config[\"aws_secret_access_key\"]\n",
    "os.environ['AWS_ACCESS_KEY_ID'] = access_key \n",
    "os.environ['AWS_SECRET_ACCESS_KEY'] = secret_key"
   ]
  },
  {
   "cell_type": "code",
   "execution_count": 1,
   "id": "b7f985df",
   "metadata": {},
   "outputs": [],
   "source": [
    "import pandas as pd\n",
    "import numpy as np\n",
    "from pyspark.sql import SparkSession\n",
    "from pyspark.sql import functions as F"
   ]
  },
  {
   "cell_type": "markdown",
   "id": "92645b29",
   "metadata": {},
   "source": [
    "### Other"
   ]
  },
  {
   "cell_type": "code",
   "execution_count": null,
   "id": "fddf8a68",
   "metadata": {},
   "outputs": [],
   "source": [
    "data_cleaned_path = config[\"output\"][\"s3_clean_path\"]\n",
    "\n",
    "spark = SparkSession.builder \\\n",
    "    .appName(\"YourAppName\") \\\n",
    "    .config(\"spark.hadoop.fs.s3a.access.key\", access_key) \\\n",
    "    .config(\"spark.hadoop.fs.s3a.secret.key\", secret_key) \\\n",
    "    .getOrCreate()\n",
    "\n",
    "df_ori = spark.read.option(\"header\", True).csv(data_cleaned_path)"
   ]
  },
  {
   "cell_type": "code",
   "execution_count": null,
   "id": "6a97988f",
   "metadata": {},
   "outputs": [
    {
     "name": "stderr",
     "output_type": "stream",
     "text": [
      "                                                                                \r"
     ]
    }
   ],
   "source": [
    "unique_users_df = df_ori.select(\"User_ID\").distinct()\n",
    "unique_users_list = [row[\"User_ID\"] for row in unique_users_df.collect()]\n",
    "sampled_users_df = df_ori.select(\"User_ID\").distinct().sample(withReplacement=False, fraction=0.05, seed=42)\n",
    "df_5M = df_ori.join(sampled_users_df, on=\"User_ID\", how=\"inner\")"
   ]
  },
  {
   "cell_type": "code",
   "execution_count": null,
   "id": "1af7e92e",
   "metadata": {},
   "outputs": [
    {
     "name": "stderr",
     "output_type": "stream",
     "text": [
      "[Stage 31:===================================================>    (62 + 5) / 67]\r"
     ]
    },
    {
     "name": "stdout",
     "output_type": "stream",
     "text": [
      "+-------+----------+-----------+--------+---------+--------+----+-----------+----+\n",
      "|User_ID|Product_ID|Category_ID|Behavior|Timestamp|Datetime|Hour|Day_of_Week|Date|\n",
      "+-------+----------+-----------+--------+---------+--------+----+-----------+----+\n",
      "|      0|         0|          0|       0|        0|       0|   0|          0|   0|\n",
      "+-------+----------+-----------+--------+---------+--------+----+-----------+----+\n",
      "\n"
     ]
    },
    {
     "name": "stderr",
     "output_type": "stream",
     "text": [
      "                                                                                \r"
     ]
    }
   ],
   "source": [
    "# Check for null values in each column\n",
    "from pyspark.sql.functions import col, sum as _sum\n",
    "null_counts = df_5M.select([_sum(col(c).isNull().cast(\"int\")).alias(c) for c in df_5M.columns])\n",
    "null_counts.show()"
   ]
  },
  {
   "cell_type": "code",
   "execution_count": null,
   "id": "cd65fb95",
   "metadata": {},
   "outputs": [
    {
     "name": "stderr",
     "output_type": "stream",
     "text": [
      "[Stage 49:=====================================================>  (64 + 3) / 67]\r"
     ]
    },
    {
     "name": "stdout",
     "output_type": "stream",
     "text": [
      "Number of duplicate rows: 3\n"
     ]
    },
    {
     "name": "stderr",
     "output_type": "stream",
     "text": [
      "                                                                                \r"
     ]
    }
   ],
   "source": [
    "# Check for duplicate rows\n",
    "duplicate_count = df_5M.count() - df_5M.dropDuplicates().count()\n",
    "print(f\"Number of duplicate rows: {duplicate_count}\")"
   ]
  },
  {
   "cell_type": "code",
   "execution_count": null,
   "id": "12dbd512",
   "metadata": {},
   "outputs": [],
   "source": [
    "df = df_5M.dropDuplicates()"
   ]
  },
  {
   "cell_type": "code",
   "execution_count": null,
   "id": "b9d708d3",
   "metadata": {},
   "outputs": [
    {
     "name": "stderr",
     "output_type": "stream",
     "text": [
      "                                                                                \r"
     ]
    }
   ],
   "source": [
    "df_5M.coalesce(1).write.mode(\"overwrite\").option(\"header\", True).csv(\"file:///home/hungits/Study/DATN/Project/data/data_sample\")"
   ]
  },
  {
   "cell_type": "markdown",
   "id": "c47fedb5",
   "metadata": {},
   "source": [
    "### EDA"
   ]
  },
  {
   "cell_type": "code",
   "execution_count": 3,
   "id": "9ab44fb1",
   "metadata": {},
   "outputs": [],
   "source": [
    "df = pd.read_csv(\"/home/hungits/Study/DATN/Project/data/data_sample/part-00000-db25700d-f875-4fd5-876c-bf73b33f795b-c000.csv\")"
   ]
  },
  {
   "cell_type": "code",
   "execution_count": 4,
   "id": "cfbd80a7",
   "metadata": {},
   "outputs": [
    {
     "data": {
      "text/html": [
       "<div>\n",
       "<style scoped>\n",
       "    .dataframe tbody tr th:only-of-type {\n",
       "        vertical-align: middle;\n",
       "    }\n",
       "\n",
       "    .dataframe tbody tr th {\n",
       "        vertical-align: top;\n",
       "    }\n",
       "\n",
       "    .dataframe thead th {\n",
       "        text-align: right;\n",
       "    }\n",
       "</style>\n",
       "<table border=\"1\" class=\"dataframe\">\n",
       "  <thead>\n",
       "    <tr style=\"text-align: right;\">\n",
       "      <th></th>\n",
       "      <th>User_ID</th>\n",
       "      <th>Product_ID</th>\n",
       "      <th>Category_ID</th>\n",
       "      <th>Behavior</th>\n",
       "      <th>Timestamp</th>\n",
       "      <th>Datetime</th>\n",
       "      <th>Hour</th>\n",
       "      <th>Day_of_Week</th>\n",
       "      <th>Date</th>\n",
       "    </tr>\n",
       "  </thead>\n",
       "  <tbody>\n",
       "    <tr>\n",
       "      <th>0</th>\n",
       "      <td>1009129</td>\n",
       "      <td>4568476</td>\n",
       "      <td>2736436</td>\n",
       "      <td>Buy</td>\n",
       "      <td>1511572827</td>\n",
       "      <td>2017-11-25T08:20:27.000+07:00</td>\n",
       "      <td>8</td>\n",
       "      <td>Saturday</td>\n",
       "      <td>2017-11-25</td>\n",
       "    </tr>\n",
       "    <tr>\n",
       "      <th>1</th>\n",
       "      <td>1009129</td>\n",
       "      <td>4314537</td>\n",
       "      <td>2736436</td>\n",
       "      <td>PageView</td>\n",
       "      <td>1511659660</td>\n",
       "      <td>2017-11-26T08:27:40.000+07:00</td>\n",
       "      <td>8</td>\n",
       "      <td>Sunday</td>\n",
       "      <td>2017-11-26</td>\n",
       "    </tr>\n",
       "    <tr>\n",
       "      <th>2</th>\n",
       "      <td>1009129</td>\n",
       "      <td>633559</td>\n",
       "      <td>1074254</td>\n",
       "      <td>PageView</td>\n",
       "      <td>1511659751</td>\n",
       "      <td>2017-11-26T08:29:11.000+07:00</td>\n",
       "      <td>8</td>\n",
       "      <td>Sunday</td>\n",
       "      <td>2017-11-26</td>\n",
       "    </tr>\n",
       "    <tr>\n",
       "      <th>3</th>\n",
       "      <td>1009129</td>\n",
       "      <td>3221295</td>\n",
       "      <td>1248986</td>\n",
       "      <td>PageView</td>\n",
       "      <td>1511660095</td>\n",
       "      <td>2017-11-26T08:34:55.000+07:00</td>\n",
       "      <td>8</td>\n",
       "      <td>Sunday</td>\n",
       "      <td>2017-11-26</td>\n",
       "    </tr>\n",
       "    <tr>\n",
       "      <th>4</th>\n",
       "      <td>1009129</td>\n",
       "      <td>633559</td>\n",
       "      <td>1074254</td>\n",
       "      <td>PageView</td>\n",
       "      <td>1511660326</td>\n",
       "      <td>2017-11-26T08:38:46.000+07:00</td>\n",
       "      <td>8</td>\n",
       "      <td>Sunday</td>\n",
       "      <td>2017-11-26</td>\n",
       "    </tr>\n",
       "  </tbody>\n",
       "</table>\n",
       "</div>"
      ],
      "text/plain": [
       "   User_ID  Product_ID  Category_ID  Behavior   Timestamp  \\\n",
       "0  1009129     4568476      2736436       Buy  1511572827   \n",
       "1  1009129     4314537      2736436  PageView  1511659660   \n",
       "2  1009129      633559      1074254  PageView  1511659751   \n",
       "3  1009129     3221295      1248986  PageView  1511660095   \n",
       "4  1009129      633559      1074254  PageView  1511660326   \n",
       "\n",
       "                        Datetime  Hour Day_of_Week        Date  \n",
       "0  2017-11-25T08:20:27.000+07:00     8    Saturday  2017-11-25  \n",
       "1  2017-11-26T08:27:40.000+07:00     8      Sunday  2017-11-26  \n",
       "2  2017-11-26T08:29:11.000+07:00     8      Sunday  2017-11-26  \n",
       "3  2017-11-26T08:34:55.000+07:00     8      Sunday  2017-11-26  \n",
       "4  2017-11-26T08:38:46.000+07:00     8      Sunday  2017-11-26  "
      ]
     },
     "execution_count": 4,
     "metadata": {},
     "output_type": "execute_result"
    }
   ],
   "source": [
    "df.head()"
   ]
  },
  {
   "cell_type": "code",
   "execution_count": 5,
   "id": "3de9384c",
   "metadata": {},
   "outputs": [
    {
     "name": "stdout",
     "output_type": "stream",
     "text": [
      "<class 'pandas.core.frame.DataFrame'>\n",
      "RangeIndex: 5008589 entries, 0 to 5008588\n",
      "Data columns (total 9 columns):\n",
      " #   Column       Dtype \n",
      "---  ------       ----- \n",
      " 0   User_ID      int64 \n",
      " 1   Product_ID   int64 \n",
      " 2   Category_ID  int64 \n",
      " 3   Behavior     object\n",
      " 4   Timestamp    int64 \n",
      " 5   Datetime     object\n",
      " 6   Hour         int64 \n",
      " 7   Day_of_Week  object\n",
      " 8   Date         object\n",
      "dtypes: int64(5), object(4)\n",
      "memory usage: 343.9+ MB\n"
     ]
    }
   ],
   "source": [
    "df.info()"
   ]
  },
  {
   "cell_type": "code",
   "execution_count": 6,
   "id": "e4e1e3ea",
   "metadata": {},
   "outputs": [],
   "source": [
    "# Chuyển kiểu dữ liệu hợp lý\n",
    "df[\"Behavior\"] = df[\"Behavior\"].astype(\"category\")\n",
    "df[\"Datetime\"] = pd.to_datetime(df[\"Datetime\"])\n",
    "df[\"Day_of_Week\"] = df[\"Day_of_Week\"].astype(\"category\")\n",
    "df[\"Date\"] = pd.to_datetime(df[\"Date\"]).dt.date"
   ]
  },
  {
   "cell_type": "code",
   "execution_count": 7,
   "id": "ef415632",
   "metadata": {},
   "outputs": [
    {
     "data": {
      "text/plain": [
       "Category_ID\n",
       "4756105    246152\n",
       "4145813    172886\n",
       "2355072    171171\n",
       "3607361    162117\n",
       "982926     154555\n",
       "Name: count, dtype: int64"
      ]
     },
     "execution_count": 7,
     "metadata": {},
     "output_type": "execute_result"
    }
   ],
   "source": [
    "# Top 5 Category_ID phổ biến nhất\n",
    "df['Category_ID'].value_counts()[:5]"
   ]
  },
  {
   "cell_type": "code",
   "execution_count": 8,
   "id": "9f7de8cd",
   "metadata": {},
   "outputs": [],
   "source": [
    "# Daily Count of \"Buy\" Behavior over Time\n",
    "buy = df[df.Behavior == 'Buy']\n",
    "buy_count = buy.groupby('Date').size().reset_index(name='count')\n",
    "buy_count = buy_count.sort_values('Date')"
   ]
  },
  {
   "cell_type": "code",
   "execution_count": 9,
   "id": "2b915e86",
   "metadata": {},
   "outputs": [
    {
     "data": {
      "text/html": [
       "<div>\n",
       "<style scoped>\n",
       "    .dataframe tbody tr th:only-of-type {\n",
       "        vertical-align: middle;\n",
       "    }\n",
       "\n",
       "    .dataframe tbody tr th {\n",
       "        vertical-align: top;\n",
       "    }\n",
       "\n",
       "    .dataframe thead th {\n",
       "        text-align: right;\n",
       "    }\n",
       "</style>\n",
       "<table border=\"1\" class=\"dataframe\">\n",
       "  <thead>\n",
       "    <tr style=\"text-align: right;\">\n",
       "      <th></th>\n",
       "      <th>Day_of_Week</th>\n",
       "      <th>count</th>\n",
       "    </tr>\n",
       "  </thead>\n",
       "  <tbody>\n",
       "    <tr>\n",
       "      <th>1</th>\n",
       "      <td>Monday</td>\n",
       "      <td>11138</td>\n",
       "    </tr>\n",
       "    <tr>\n",
       "      <th>5</th>\n",
       "      <td>Tuesday</td>\n",
       "      <td>10409</td>\n",
       "    </tr>\n",
       "    <tr>\n",
       "      <th>6</th>\n",
       "      <td>Wednesday</td>\n",
       "      <td>10903</td>\n",
       "    </tr>\n",
       "    <tr>\n",
       "      <th>4</th>\n",
       "      <td>Thursday</td>\n",
       "      <td>11297</td>\n",
       "    </tr>\n",
       "    <tr>\n",
       "      <th>0</th>\n",
       "      <td>Friday</td>\n",
       "      <td>10547</td>\n",
       "    </tr>\n",
       "    <tr>\n",
       "      <th>2</th>\n",
       "      <td>Saturday</td>\n",
       "      <td>22933</td>\n",
       "    </tr>\n",
       "    <tr>\n",
       "      <th>3</th>\n",
       "      <td>Sunday</td>\n",
       "      <td>22853</td>\n",
       "    </tr>\n",
       "  </tbody>\n",
       "</table>\n",
       "</div>"
      ],
      "text/plain": [
       "  Day_of_Week  count\n",
       "1      Monday  11138\n",
       "5     Tuesday  10409\n",
       "6   Wednesday  10903\n",
       "4    Thursday  11297\n",
       "0      Friday  10547\n",
       "2    Saturday  22933\n",
       "3      Sunday  22853"
      ]
     },
     "execution_count": 9,
     "metadata": {},
     "output_type": "execute_result"
    }
   ],
   "source": [
    "# Day_of_week count of \"Buy\" Behavior over Time\n",
    "days_order = ['Monday', 'Tuesday', 'Wednesday', 'Thursday', 'Friday', 'Saturday', 'Sunday']\n",
    "buy_day_of_week = buy.groupby('Day_of_Week', observed=True).size().reset_index(name='count')\n",
    "# used for ordinal data where the order matters\n",
    "buy_day_of_week['Day_of_Week'] = pd.Categorical(buy_day_of_week['Day_of_Week'], categories=days_order, ordered=True)  \n",
    "buy_day_of_week = buy_day_of_week.sort_values('Day_of_Week')\n",
    "buy_day_of_week"
   ]
  },
  {
   "cell_type": "code",
   "execution_count": 10,
   "id": "e519a336",
   "metadata": {},
   "outputs": [],
   "source": [
    "import matplotlib.pyplot as plt\n",
    "import seaborn as sns\n",
    "%matplotlib inline\n",
    "from matplotlib.patches import Shadow\n",
    "from matplotlib.lines import Line2D"
   ]
  },
  {
   "cell_type": "code",
   "execution_count": 11,
   "id": "6edc086e",
   "metadata": {},
   "outputs": [
    {
     "data": {
      "image/png": "[encoded data removed]",
      "text/plain": [
       "<Figure size 1500x400 with 2 Axes>"
      ]
     },
     "metadata": {},
     "output_type": "display_data"
    }
   ],
   "source": [
    "f, (ax1, ax2) = plt.subplots(1, 2, figsize=(15, 4))\n",
    "\n",
    "# Biểu đồ theo ngày\n",
    "ax2.plot(buy_count['Date'], buy_count['count'])\n",
    "ax2.set_xlabel('Date', fontsize=18)\n",
    "ax2.set_ylabel('Daily Count', fontsize=18)\n",
    "ax2.tick_params(axis='x', rotation=45)\n",
    "\n",
    "# Biểu đồ theo thứ \n",
    "ax1.plot(buy_day_of_week['Day_of_Week'], buy_day_of_week['count'])\n",
    "ax1.set_xlabel('Day of Week', fontsize=18)\n",
    "ax1.set_ylabel('Count of \"Buy\"', fontsize=18)\n",
    "ax1.tick_params(axis='x', rotation=45)\n",
    "\n",
    "f.suptitle('Counts of \"Buy\" Behavior over Time', fontsize=20) \n",
    "plt.subplots_adjust(wspace=0.3)\n",
    "plt.savefig('Buy_Count.png', format='png', bbox_inches='tight')"
   ]
  },
  {
   "cell_type": "code",
   "execution_count": 12,
   "id": "3fd4e329",
   "metadata": {},
   "outputs": [
    {
     "data": {
      "text/html": [
       "<div>\n",
       "<style scoped>\n",
       "    .dataframe tbody tr th:only-of-type {\n",
       "        vertical-align: middle;\n",
       "    }\n",
       "\n",
       "    .dataframe tbody tr th {\n",
       "        vertical-align: top;\n",
       "    }\n",
       "\n",
       "    .dataframe thead th {\n",
       "        text-align: right;\n",
       "    }\n",
       "</style>\n",
       "<table border=\"1\" class=\"dataframe\">\n",
       "  <thead>\n",
       "    <tr style=\"text-align: right;\">\n",
       "      <th></th>\n",
       "      <th>User_ID</th>\n",
       "      <th>Product_ID</th>\n",
       "      <th>Category_ID</th>\n",
       "      <th>Behavior</th>\n",
       "      <th>Timestamp</th>\n",
       "      <th>Datetime</th>\n",
       "      <th>Hour</th>\n",
       "      <th>Day_of_Week</th>\n",
       "      <th>Date</th>\n",
       "    </tr>\n",
       "  </thead>\n",
       "  <tbody>\n",
       "    <tr>\n",
       "      <th>2504294</th>\n",
       "      <td>583165</td>\n",
       "      <td>5032135</td>\n",
       "      <td>4145813</td>\n",
       "      <td>PageView</td>\n",
       "      <td>1511796462</td>\n",
       "      <td>2017-11-27 22:27:42+07:00</td>\n",
       "      <td>22</td>\n",
       "      <td>Monday</td>\n",
       "      <td>2017-11-27</td>\n",
       "    </tr>\n",
       "    <tr>\n",
       "      <th>2146183</th>\n",
       "      <td>210629</td>\n",
       "      <td>2466787</td>\n",
       "      <td>982926</td>\n",
       "      <td>PageView</td>\n",
       "      <td>1511746630</td>\n",
       "      <td>2017-11-27 08:37:10+07:00</td>\n",
       "      <td>8</td>\n",
       "      <td>Monday</td>\n",
       "      <td>2017-11-27</td>\n",
       "    </tr>\n",
       "    <tr>\n",
       "      <th>2146182</th>\n",
       "      <td>210629</td>\n",
       "      <td>550307</td>\n",
       "      <td>982926</td>\n",
       "      <td>Favorite</td>\n",
       "      <td>1511746619</td>\n",
       "      <td>2017-11-27 08:36:59+07:00</td>\n",
       "      <td>8</td>\n",
       "      <td>Monday</td>\n",
       "      <td>2017-11-27</td>\n",
       "    </tr>\n",
       "    <tr>\n",
       "      <th>2146181</th>\n",
       "      <td>210629</td>\n",
       "      <td>1902232</td>\n",
       "      <td>982926</td>\n",
       "      <td>PageView</td>\n",
       "      <td>1511746567</td>\n",
       "      <td>2017-11-27 08:36:07+07:00</td>\n",
       "      <td>8</td>\n",
       "      <td>Monday</td>\n",
       "      <td>2017-11-27</td>\n",
       "    </tr>\n",
       "    <tr>\n",
       "      <th>2146180</th>\n",
       "      <td>210629</td>\n",
       "      <td>1236831</td>\n",
       "      <td>982926</td>\n",
       "      <td>PageView</td>\n",
       "      <td>1511746557</td>\n",
       "      <td>2017-11-27 08:35:57+07:00</td>\n",
       "      <td>8</td>\n",
       "      <td>Monday</td>\n",
       "      <td>2017-11-27</td>\n",
       "    </tr>\n",
       "    <tr>\n",
       "      <th>...</th>\n",
       "      <td>...</td>\n",
       "      <td>...</td>\n",
       "      <td>...</td>\n",
       "      <td>...</td>\n",
       "      <td>...</td>\n",
       "      <td>...</td>\n",
       "      <td>...</td>\n",
       "      <td>...</td>\n",
       "      <td>...</td>\n",
       "    </tr>\n",
       "    <tr>\n",
       "      <th>1789319</th>\n",
       "      <td>862014</td>\n",
       "      <td>2741669</td>\n",
       "      <td>1297992</td>\n",
       "      <td>PageView</td>\n",
       "      <td>1511697223</td>\n",
       "      <td>2017-11-26 18:53:43+07:00</td>\n",
       "      <td>18</td>\n",
       "      <td>Sunday</td>\n",
       "      <td>2017-11-26</td>\n",
       "    </tr>\n",
       "    <tr>\n",
       "      <th>1789320</th>\n",
       "      <td>862014</td>\n",
       "      <td>4578982</td>\n",
       "      <td>1297992</td>\n",
       "      <td>PageView</td>\n",
       "      <td>1511697307</td>\n",
       "      <td>2017-11-26 18:55:07+07:00</td>\n",
       "      <td>18</td>\n",
       "      <td>Sunday</td>\n",
       "      <td>2017-11-26</td>\n",
       "    </tr>\n",
       "    <tr>\n",
       "      <th>1789321</th>\n",
       "      <td>862014</td>\n",
       "      <td>222419</td>\n",
       "      <td>1297992</td>\n",
       "      <td>PageView</td>\n",
       "      <td>1511697414</td>\n",
       "      <td>2017-11-26 18:56:54+07:00</td>\n",
       "      <td>18</td>\n",
       "      <td>Sunday</td>\n",
       "      <td>2017-11-26</td>\n",
       "    </tr>\n",
       "    <tr>\n",
       "      <th>3874453</th>\n",
       "      <td>906761</td>\n",
       "      <td>2773463</td>\n",
       "      <td>3108882</td>\n",
       "      <td>PageView</td>\n",
       "      <td>1512282494</td>\n",
       "      <td>2017-12-03 13:28:14+07:00</td>\n",
       "      <td>13</td>\n",
       "      <td>Sunday</td>\n",
       "      <td>2017-12-03</td>\n",
       "    </tr>\n",
       "    <tr>\n",
       "      <th>5008588</th>\n",
       "      <td>999656</td>\n",
       "      <td>3737240</td>\n",
       "      <td>154040</td>\n",
       "      <td>PageView</td>\n",
       "      <td>1512304695</td>\n",
       "      <td>2017-12-03 19:38:15+07:00</td>\n",
       "      <td>19</td>\n",
       "      <td>Sunday</td>\n",
       "      <td>2017-12-03</td>\n",
       "    </tr>\n",
       "  </tbody>\n",
       "</table>\n",
       "<p>5008589 rows × 9 columns</p>\n",
       "</div>"
      ],
      "text/plain": [
       "         User_ID  Product_ID  Category_ID  Behavior   Timestamp  \\\n",
       "2504294   583165     5032135      4145813  PageView  1511796462   \n",
       "2146183   210629     2466787       982926  PageView  1511746630   \n",
       "2146182   210629      550307       982926  Favorite  1511746619   \n",
       "2146181   210629     1902232       982926  PageView  1511746567   \n",
       "2146180   210629     1236831       982926  PageView  1511746557   \n",
       "...          ...         ...          ...       ...         ...   \n",
       "1789319   862014     2741669      1297992  PageView  1511697223   \n",
       "1789320   862014     4578982      1297992  PageView  1511697307   \n",
       "1789321   862014      222419      1297992  PageView  1511697414   \n",
       "3874453   906761     2773463      3108882  PageView  1512282494   \n",
       "5008588   999656     3737240       154040  PageView  1512304695   \n",
       "\n",
       "                         Datetime  Hour Day_of_Week        Date  \n",
       "2504294 2017-11-27 22:27:42+07:00    22      Monday  2017-11-27  \n",
       "2146183 2017-11-27 08:37:10+07:00     8      Monday  2017-11-27  \n",
       "2146182 2017-11-27 08:36:59+07:00     8      Monday  2017-11-27  \n",
       "2146181 2017-11-27 08:36:07+07:00     8      Monday  2017-11-27  \n",
       "2146180 2017-11-27 08:35:57+07:00     8      Monday  2017-11-27  \n",
       "...                           ...   ...         ...         ...  \n",
       "1789319 2017-11-26 18:53:43+07:00    18      Sunday  2017-11-26  \n",
       "1789320 2017-11-26 18:55:07+07:00    18      Sunday  2017-11-26  \n",
       "1789321 2017-11-26 18:56:54+07:00    18      Sunday  2017-11-26  \n",
       "3874453 2017-12-03 13:28:14+07:00    13      Sunday  2017-12-03  \n",
       "5008588 2017-12-03 19:38:15+07:00    19      Sunday  2017-12-03  \n",
       "\n",
       "[5008589 rows x 9 columns]"
      ]
     },
     "execution_count": 12,
     "metadata": {},
     "output_type": "execute_result"
    }
   ],
   "source": [
    "df['Day_of_Week'] = pd.Categorical(df['Day_of_Week'], categories=days_order, ordered=True)  \n",
    "df = df.sort_values('Day_of_Week')\n",
    "df\n"
   ]
  },
  {
   "cell_type": "code",
   "execution_count": 13,
   "id": "e9cf8eed",
   "metadata": {},
   "outputs": [
    {
     "data": {
      "text/html": [
       "<div>\n",
       "<style scoped>\n",
       "    .dataframe tbody tr th:only-of-type {\n",
       "        vertical-align: middle;\n",
       "    }\n",
       "\n",
       "    .dataframe tbody tr th {\n",
       "        vertical-align: top;\n",
       "    }\n",
       "\n",
       "    .dataframe thead th {\n",
       "        text-align: right;\n",
       "    }\n",
       "</style>\n",
       "<table border=\"1\" class=\"dataframe\">\n",
       "  <thead>\n",
       "    <tr style=\"text-align: right;\">\n",
       "      <th>Behavior</th>\n",
       "      <th>Hour</th>\n",
       "      <th>AddToCart</th>\n",
       "      <th>Buy</th>\n",
       "      <th>Favorite</th>\n",
       "      <th>PageView</th>\n",
       "    </tr>\n",
       "  </thead>\n",
       "  <tbody>\n",
       "    <tr>\n",
       "      <th>0</th>\n",
       "      <td>0</td>\n",
       "      <td>4341.0</td>\n",
       "      <td>1151.0</td>\n",
       "      <td>2593.0</td>\n",
       "      <td>71336.0</td>\n",
       "    </tr>\n",
       "    <tr>\n",
       "      <th>1</th>\n",
       "      <td>1</td>\n",
       "      <td>2199.0</td>\n",
       "      <td>586.0</td>\n",
       "      <td>1333.0</td>\n",
       "      <td>38505.0</td>\n",
       "    </tr>\n",
       "    <tr>\n",
       "      <th>2</th>\n",
       "      <td>2</td>\n",
       "      <td>1580.0</td>\n",
       "      <td>426.0</td>\n",
       "      <td>872.0</td>\n",
       "      <td>25190.0</td>\n",
       "    </tr>\n",
       "    <tr>\n",
       "      <th>3</th>\n",
       "      <td>3</td>\n",
       "      <td>1330.0</td>\n",
       "      <td>286.0</td>\n",
       "      <td>757.0</td>\n",
       "      <td>21966.0</td>\n",
       "    </tr>\n",
       "    <tr>\n",
       "      <th>4</th>\n",
       "      <td>4</td>\n",
       "      <td>1883.0</td>\n",
       "      <td>397.0</td>\n",
       "      <td>935.0</td>\n",
       "      <td>29544.0</td>\n",
       "    </tr>\n",
       "  </tbody>\n",
       "</table>\n",
       "</div>"
      ],
      "text/plain": [
       "Behavior  Hour  AddToCart     Buy  Favorite  PageView\n",
       "0            0     4341.0  1151.0    2593.0   71336.0\n",
       "1            1     2199.0   586.0    1333.0   38505.0\n",
       "2            2     1580.0   426.0     872.0   25190.0\n",
       "3            3     1330.0   286.0     757.0   21966.0\n",
       "4            4     1883.0   397.0     935.0   29544.0"
      ]
     },
     "execution_count": 13,
     "metadata": {},
     "output_type": "execute_result"
    }
   ],
   "source": [
    "hourly_behavior = df.groupby(['Hour', 'Behavior'], observed=True).size().reset_index(name='Behavior_Count')\n",
    "hourly_behavior_count = hourly_behavior.pivot_table(index='Hour', columns='Behavior', values='Behavior_Count', fill_value=0, observed=True)\n",
    "hourly_behavior_count.reset_index(inplace=True)\n",
    "hourly_behavior_count.head()"
   ]
  },
  {
   "cell_type": "code",
   "execution_count": 14,
   "id": "126a4e12",
   "metadata": {},
   "outputs": [
    {
     "data": {
      "image/png": "[encoded data removed]",
      "text/plain": [
       "<Figure size 1500x600 with 2 Axes>"
      ]
     },
     "metadata": {},
     "output_type": "display_data"
    }
   ],
   "source": [
    "plt.figure(1, figsize=(15, 6))\n",
    "n = 0 \n",
    "for x in ['Hour', 'Day_of_Week']:    \n",
    "    n += 1    \n",
    "    plt.subplot(1, 2, n)    \n",
    "    plt.subplots_adjust(hspace=0.5, wspace=0.2)    \n",
    "    sns.countplot(data=df, x=x)    \n",
    "    plt.title('Countplot of {}'.format(x), fontsize=18)\n",
    "    \n",
    "plt.savefig('Countplot of Hour and Day_of_Week.png', format='png', bbox_inches='tight')\n",
    "plt.show()"
   ]
  },
  {
   "cell_type": "code",
   "execution_count": 15,
   "id": "ea8adae7",
   "metadata": {},
   "outputs": [
    {
     "data": {
      "text/html": [
       "<div>\n",
       "<style scoped>\n",
       "    .dataframe tbody tr th:only-of-type {\n",
       "        vertical-align: middle;\n",
       "    }\n",
       "\n",
       "    .dataframe tbody tr th {\n",
       "        vertical-align: top;\n",
       "    }\n",
       "\n",
       "    .dataframe thead th {\n",
       "        text-align: right;\n",
       "    }\n",
       "</style>\n",
       "<table border=\"1\" class=\"dataframe\">\n",
       "  <thead>\n",
       "    <tr style=\"text-align: right;\">\n",
       "      <th>Behavior</th>\n",
       "      <th>AddToCart</th>\n",
       "      <th>Buy</th>\n",
       "      <th>Favorite</th>\n",
       "      <th>PageView</th>\n",
       "      <th>Conversion_Rate</th>\n",
       "    </tr>\n",
       "    <tr>\n",
       "      <th>Category_ID</th>\n",
       "      <th></th>\n",
       "      <th></th>\n",
       "      <th></th>\n",
       "      <th></th>\n",
       "      <th></th>\n",
       "    </tr>\n",
       "  </thead>\n",
       "  <tbody>\n",
       "    <tr>\n",
       "      <th>2171</th>\n",
       "      <td>0</td>\n",
       "      <td>1</td>\n",
       "      <td>0</td>\n",
       "      <td>58</td>\n",
       "      <td>0.016949</td>\n",
       "    </tr>\n",
       "    <tr>\n",
       "      <th>2410</th>\n",
       "      <td>0</td>\n",
       "      <td>2</td>\n",
       "      <td>0</td>\n",
       "      <td>34</td>\n",
       "      <td>0.055556</td>\n",
       "    </tr>\n",
       "    <tr>\n",
       "      <th>2818</th>\n",
       "      <td>0</td>\n",
       "      <td>0</td>\n",
       "      <td>0</td>\n",
       "      <td>1</td>\n",
       "      <td>0.000000</td>\n",
       "    </tr>\n",
       "    <tr>\n",
       "      <th>4907</th>\n",
       "      <td>0</td>\n",
       "      <td>1</td>\n",
       "      <td>0</td>\n",
       "      <td>16</td>\n",
       "      <td>0.058824</td>\n",
       "    </tr>\n",
       "    <tr>\n",
       "      <th>5064</th>\n",
       "      <td>0</td>\n",
       "      <td>10</td>\n",
       "      <td>0</td>\n",
       "      <td>1410</td>\n",
       "      <td>0.007042</td>\n",
       "    </tr>\n",
       "  </tbody>\n",
       "</table>\n",
       "</div>"
      ],
      "text/plain": [
       "Behavior     AddToCart  Buy  Favorite  PageView  Conversion_Rate\n",
       "Category_ID                                                     \n",
       "2171                 0    1         0        58         0.016949\n",
       "2410                 0    2         0        34         0.055556\n",
       "2818                 0    0         0         1         0.000000\n",
       "4907                 0    1         0        16         0.058824\n",
       "5064                 0   10         0      1410         0.007042"
      ]
     },
     "execution_count": 15,
     "metadata": {},
     "output_type": "execute_result"
    }
   ],
   "source": [
    "# Calculate conversion rate for each category\n",
    "conversion = df[df['Behavior'].isin(['Buy', 'PageView'])]\n",
    "conversion_pb = conversion.groupby('Category_ID')['Behavior'].value_counts().unstack().fillna(0)\n",
    "conversion_pb = conversion_pb[conversion_pb['PageView'] >= conversion_pb['Buy']]\n",
    "conversion_pb['Conversion_Rate'] = conversion_pb['Buy'] / (conversion_pb['Buy'] + conversion_pb['PageView'])\n",
    "conversion_pb.head()"
   ]
  },
  {
   "cell_type": "code",
   "execution_count": 16,
   "id": "100ac8b4",
   "metadata": {},
   "outputs": [
    {
     "data": {
      "text/html": [
       "<div>\n",
       "<style scoped>\n",
       "    .dataframe tbody tr th:only-of-type {\n",
       "        vertical-align: middle;\n",
       "    }\n",
       "\n",
       "    .dataframe tbody tr th {\n",
       "        vertical-align: top;\n",
       "    }\n",
       "\n",
       "    .dataframe thead th {\n",
       "        text-align: right;\n",
       "    }\n",
       "</style>\n",
       "<table border=\"1\" class=\"dataframe\">\n",
       "  <thead>\n",
       "    <tr style=\"text-align: right;\">\n",
       "      <th>Behavior</th>\n",
       "      <th>AddToCart</th>\n",
       "      <th>Buy</th>\n",
       "      <th>Favorite</th>\n",
       "      <th>PageView</th>\n",
       "      <th>Conversion_Rate</th>\n",
       "    </tr>\n",
       "    <tr>\n",
       "      <th>Category_ID</th>\n",
       "      <th></th>\n",
       "      <th></th>\n",
       "      <th></th>\n",
       "      <th></th>\n",
       "      <th></th>\n",
       "    </tr>\n",
       "  </thead>\n",
       "  <tbody>\n",
       "    <tr>\n",
       "      <th>1464116</th>\n",
       "      <td>0</td>\n",
       "      <td>1753</td>\n",
       "      <td>0</td>\n",
       "      <td>33642</td>\n",
       "      <td>0.049527</td>\n",
       "    </tr>\n",
       "    <tr>\n",
       "      <th>2735466</th>\n",
       "      <td>0</td>\n",
       "      <td>1683</td>\n",
       "      <td>0</td>\n",
       "      <td>56861</td>\n",
       "      <td>0.028748</td>\n",
       "    </tr>\n",
       "    <tr>\n",
       "      <th>4145813</th>\n",
       "      <td>0</td>\n",
       "      <td>1585</td>\n",
       "      <td>0</td>\n",
       "      <td>157345</td>\n",
       "      <td>0.009973</td>\n",
       "    </tr>\n",
       "    <tr>\n",
       "      <th>2885642</th>\n",
       "      <td>0</td>\n",
       "      <td>1574</td>\n",
       "      <td>0</td>\n",
       "      <td>47201</td>\n",
       "      <td>0.032271</td>\n",
       "    </tr>\n",
       "    <tr>\n",
       "      <th>4756105</th>\n",
       "      <td>0</td>\n",
       "      <td>1458</td>\n",
       "      <td>0</td>\n",
       "      <td>227003</td>\n",
       "      <td>0.006382</td>\n",
       "    </tr>\n",
       "    <tr>\n",
       "      <th>4801426</th>\n",
       "      <td>0</td>\n",
       "      <td>1366</td>\n",
       "      <td>0</td>\n",
       "      <td>94679</td>\n",
       "      <td>0.014222</td>\n",
       "    </tr>\n",
       "    <tr>\n",
       "      <th>982926</th>\n",
       "      <td>0</td>\n",
       "      <td>1254</td>\n",
       "      <td>0</td>\n",
       "      <td>141025</td>\n",
       "      <td>0.008814</td>\n",
       "    </tr>\n",
       "    <tr>\n",
       "      <th>4159072</th>\n",
       "      <td>0</td>\n",
       "      <td>926</td>\n",
       "      <td>0</td>\n",
       "      <td>9641</td>\n",
       "      <td>0.087631</td>\n",
       "    </tr>\n",
       "    <tr>\n",
       "      <th>1320293</th>\n",
       "      <td>0</td>\n",
       "      <td>919</td>\n",
       "      <td>0</td>\n",
       "      <td>91203</td>\n",
       "      <td>0.009976</td>\n",
       "    </tr>\n",
       "    <tr>\n",
       "      <th>2640118</th>\n",
       "      <td>0</td>\n",
       "      <td>891</td>\n",
       "      <td>0</td>\n",
       "      <td>35451</td>\n",
       "      <td>0.024517</td>\n",
       "    </tr>\n",
       "  </tbody>\n",
       "</table>\n",
       "</div>"
      ],
      "text/plain": [
       "Behavior     AddToCart   Buy  Favorite  PageView  Conversion_Rate\n",
       "Category_ID                                                      \n",
       "1464116              0  1753         0     33642         0.049527\n",
       "2735466              0  1683         0     56861         0.028748\n",
       "4145813              0  1585         0    157345         0.009973\n",
       "2885642              0  1574         0     47201         0.032271\n",
       "4756105              0  1458         0    227003         0.006382\n",
       "4801426              0  1366         0     94679         0.014222\n",
       "982926               0  1254         0    141025         0.008814\n",
       "4159072              0   926         0      9641         0.087631\n",
       "1320293              0   919         0     91203         0.009976\n",
       "2640118              0   891         0     35451         0.024517"
      ]
     },
     "execution_count": 16,
     "metadata": {},
     "output_type": "execute_result"
    }
   ],
   "source": [
    "# the conversion rate of the top 10 sale categories\n",
    "conversion_10 = conversion_pb.sort_values(by='Buy', ascending=False)[:10]\n",
    "conversion_10\n"
   ]
  },
  {
   "cell_type": "code",
   "execution_count": 17,
   "id": "da74e9bf",
   "metadata": {},
   "outputs": [
    {
     "data": {
      "text/html": [
       "<div>\n",
       "<style scoped>\n",
       "    .dataframe tbody tr th:only-of-type {\n",
       "        vertical-align: middle;\n",
       "    }\n",
       "\n",
       "    .dataframe tbody tr th {\n",
       "        vertical-align: top;\n",
       "    }\n",
       "\n",
       "    .dataframe thead th {\n",
       "        text-align: right;\n",
       "    }\n",
       "</style>\n",
       "<table border=\"1\" class=\"dataframe\">\n",
       "  <thead>\n",
       "    <tr style=\"text-align: right;\">\n",
       "      <th></th>\n",
       "      <th>Category_ID</th>\n",
       "      <th>PageView Count</th>\n",
       "    </tr>\n",
       "  </thead>\n",
       "  <tbody>\n",
       "    <tr>\n",
       "      <th>6845</th>\n",
       "      <td>4756105</td>\n",
       "      <td>227003</td>\n",
       "    </tr>\n",
       "    <tr>\n",
       "      <th>3364</th>\n",
       "      <td>2355072</td>\n",
       "      <td>159998</td>\n",
       "    </tr>\n",
       "    <tr>\n",
       "      <th>5995</th>\n",
       "      <td>4145813</td>\n",
       "      <td>157345</td>\n",
       "    </tr>\n",
       "    <tr>\n",
       "      <th>5207</th>\n",
       "      <td>3607361</td>\n",
       "      <td>152255</td>\n",
       "    </tr>\n",
       "    <tr>\n",
       "      <th>1404</th>\n",
       "      <td>982926</td>\n",
       "      <td>141025</td>\n",
       "    </tr>\n",
       "    <tr>\n",
       "      <th>3577</th>\n",
       "      <td>2520377</td>\n",
       "      <td>102367</td>\n",
       "    </tr>\n",
       "    <tr>\n",
       "      <th>6916</th>\n",
       "      <td>4801426</td>\n",
       "      <td>94679</td>\n",
       "    </tr>\n",
       "    <tr>\n",
       "      <th>1871</th>\n",
       "      <td>1320293</td>\n",
       "      <td>91203</td>\n",
       "    </tr>\n",
       "    <tr>\n",
       "      <th>3507</th>\n",
       "      <td>2465336</td>\n",
       "      <td>74142</td>\n",
       "    </tr>\n",
       "    <tr>\n",
       "      <th>4290</th>\n",
       "      <td>3002561</td>\n",
       "      <td>70315</td>\n",
       "    </tr>\n",
       "  </tbody>\n",
       "</table>\n",
       "</div>"
      ],
      "text/plain": [
       "      Category_ID  PageView Count\n",
       "6845      4756105          227003\n",
       "3364      2355072          159998\n",
       "5995      4145813          157345\n",
       "5207      3607361          152255\n",
       "1404       982926          141025\n",
       "3577      2520377          102367\n",
       "6916      4801426           94679\n",
       "1871      1320293           91203\n",
       "3507      2465336           74142\n",
       "4290      3002561           70315"
      ]
     },
     "execution_count": 17,
     "metadata": {},
     "output_type": "execute_result"
    }
   ],
   "source": [
    "top10_pv_categories = df[df['Behavior'] == 'PageView'].groupby('Category_ID').size().reset_index(name='PageView Count').sort_values(by='PageView Count', ascending=False)[:10]\n",
    "top10_pv_categories"
   ]
  },
  {
   "cell_type": "code",
   "execution_count": 18,
   "id": "674d17c4",
   "metadata": {},
   "outputs": [
    {
     "data": {
      "text/html": [
       "<div>\n",
       "<style scoped>\n",
       "    .dataframe tbody tr th:only-of-type {\n",
       "        vertical-align: middle;\n",
       "    }\n",
       "\n",
       "    .dataframe tbody tr th {\n",
       "        vertical-align: top;\n",
       "    }\n",
       "\n",
       "    .dataframe thead th {\n",
       "        text-align: right;\n",
       "    }\n",
       "</style>\n",
       "<table border=\"1\" class=\"dataframe\">\n",
       "  <thead>\n",
       "    <tr style=\"text-align: right;\">\n",
       "      <th></th>\n",
       "      <th>Category_ID</th>\n",
       "      <th>Buy Count</th>\n",
       "    </tr>\n",
       "  </thead>\n",
       "  <tbody>\n",
       "    <tr>\n",
       "      <th>1202</th>\n",
       "      <td>1464116</td>\n",
       "      <td>1753</td>\n",
       "    </tr>\n",
       "    <tr>\n",
       "      <th>2214</th>\n",
       "      <td>2735466</td>\n",
       "      <td>1683</td>\n",
       "    </tr>\n",
       "    <tr>\n",
       "      <th>3374</th>\n",
       "      <td>4145813</td>\n",
       "      <td>1585</td>\n",
       "    </tr>\n",
       "    <tr>\n",
       "      <th>2330</th>\n",
       "      <td>2885642</td>\n",
       "      <td>1574</td>\n",
       "    </tr>\n",
       "    <tr>\n",
       "      <th>3867</th>\n",
       "      <td>4756105</td>\n",
       "      <td>1458</td>\n",
       "    </tr>\n",
       "    <tr>\n",
       "      <th>3907</th>\n",
       "      <td>4801426</td>\n",
       "      <td>1366</td>\n",
       "    </tr>\n",
       "    <tr>\n",
       "      <th>811</th>\n",
       "      <td>982926</td>\n",
       "      <td>1254</td>\n",
       "    </tr>\n",
       "    <tr>\n",
       "      <th>3384</th>\n",
       "      <td>4159072</td>\n",
       "      <td>926</td>\n",
       "    </tr>\n",
       "    <tr>\n",
       "      <th>1080</th>\n",
       "      <td>1320293</td>\n",
       "      <td>919</td>\n",
       "    </tr>\n",
       "    <tr>\n",
       "      <th>2132</th>\n",
       "      <td>2640118</td>\n",
       "      <td>891</td>\n",
       "    </tr>\n",
       "  </tbody>\n",
       "</table>\n",
       "</div>"
      ],
      "text/plain": [
       "      Category_ID  Buy Count\n",
       "1202      1464116       1753\n",
       "2214      2735466       1683\n",
       "3374      4145813       1585\n",
       "2330      2885642       1574\n",
       "3867      4756105       1458\n",
       "3907      4801426       1366\n",
       "811        982926       1254\n",
       "3384      4159072        926\n",
       "1080      1320293        919\n",
       "2132      2640118        891"
      ]
     },
     "execution_count": 18,
     "metadata": {},
     "output_type": "execute_result"
    }
   ],
   "source": [
    "top10_buy_categories = df[df['Behavior'] == 'Buy'].groupby('Category_ID').size().reset_index(name='Buy Count').sort_values(by='Buy Count', ascending=False)[:10]\n",
    "top10_buy_categories"
   ]
  },
  {
   "cell_type": "markdown",
   "id": "9af46f97",
   "metadata": {},
   "source": [
    "### Customer Segmentation"
   ]
  },
  {
   "cell_type": "code",
   "execution_count": 19,
   "id": "d7f6a722",
   "metadata": {},
   "outputs": [
    {
     "data": {
      "text/html": [
       "<div>\n",
       "<style scoped>\n",
       "    .dataframe tbody tr th:only-of-type {\n",
       "        vertical-align: middle;\n",
       "    }\n",
       "\n",
       "    .dataframe tbody tr th {\n",
       "        vertical-align: top;\n",
       "    }\n",
       "\n",
       "    .dataframe thead th {\n",
       "        text-align: right;\n",
       "    }\n",
       "</style>\n",
       "<table border=\"1\" class=\"dataframe\">\n",
       "  <thead>\n",
       "    <tr style=\"text-align: right;\">\n",
       "      <th></th>\n",
       "      <th>User_ID</th>\n",
       "      <th>LastPurshaceDate</th>\n",
       "      <th>Recency</th>\n",
       "    </tr>\n",
       "  </thead>\n",
       "  <tbody>\n",
       "    <tr>\n",
       "      <th>0</th>\n",
       "      <td>4</td>\n",
       "      <td>2017-11-30</td>\n",
       "      <td>3</td>\n",
       "    </tr>\n",
       "    <tr>\n",
       "      <th>1</th>\n",
       "      <td>39</td>\n",
       "      <td>2017-12-02</td>\n",
       "      <td>1</td>\n",
       "    </tr>\n",
       "    <tr>\n",
       "      <th>2</th>\n",
       "      <td>81</td>\n",
       "      <td>2017-11-29</td>\n",
       "      <td>4</td>\n",
       "    </tr>\n",
       "    <tr>\n",
       "      <th>3</th>\n",
       "      <td>91</td>\n",
       "      <td>2017-12-03</td>\n",
       "      <td>0</td>\n",
       "    </tr>\n",
       "    <tr>\n",
       "      <th>4</th>\n",
       "      <td>119</td>\n",
       "      <td>2017-11-29</td>\n",
       "      <td>4</td>\n",
       "    </tr>\n",
       "  </tbody>\n",
       "</table>\n",
       "</div>"
      ],
      "text/plain": [
       "   User_ID LastPurshaceDate  Recency\n",
       "0        4       2017-11-30        3\n",
       "1       39       2017-12-02        1\n",
       "2       81       2017-11-29        4\n",
       "3       91       2017-12-03        0\n",
       "4      119       2017-11-29        4"
      ]
     },
     "execution_count": 19,
     "metadata": {},
     "output_type": "execute_result"
    }
   ],
   "source": [
    "# 1. Calculate recency\n",
    "recency = df[df['Behavior'] == 'Buy'].groupby(by='User_ID', as_index=False)['Date'].max()\n",
    "recency.columns = ['User_ID', 'LastPurshaceDate']\n",
    "current_date = df[df['Behavior'] == 'Buy']['Date'].max()\n",
    "recency['Recency'] = recency['LastPurshaceDate'].apply(lambda x: (current_date - x).days)\n",
    "recency.head()"
   ]
  },
  {
   "cell_type": "code",
   "execution_count": 20,
   "id": "cfcaef41",
   "metadata": {},
   "outputs": [
    {
     "data": {
      "text/html": [
       "<div>\n",
       "<style scoped>\n",
       "    .dataframe tbody tr th:only-of-type {\n",
       "        vertical-align: middle;\n",
       "    }\n",
       "\n",
       "    .dataframe tbody tr th {\n",
       "        vertical-align: top;\n",
       "    }\n",
       "\n",
       "    .dataframe thead th {\n",
       "        text-align: right;\n",
       "    }\n",
       "</style>\n",
       "<table border=\"1\" class=\"dataframe\">\n",
       "  <thead>\n",
       "    <tr style=\"text-align: right;\">\n",
       "      <th></th>\n",
       "      <th>User_ID</th>\n",
       "      <th>Frequency</th>\n",
       "    </tr>\n",
       "  </thead>\n",
       "  <tbody>\n",
       "    <tr>\n",
       "      <th>0</th>\n",
       "      <td>4</td>\n",
       "      <td>4</td>\n",
       "    </tr>\n",
       "    <tr>\n",
       "      <th>1</th>\n",
       "      <td>39</td>\n",
       "      <td>5</td>\n",
       "    </tr>\n",
       "    <tr>\n",
       "      <th>2</th>\n",
       "      <td>81</td>\n",
       "      <td>2</td>\n",
       "    </tr>\n",
       "    <tr>\n",
       "      <th>3</th>\n",
       "      <td>91</td>\n",
       "      <td>2</td>\n",
       "    </tr>\n",
       "    <tr>\n",
       "      <th>4</th>\n",
       "      <td>119</td>\n",
       "      <td>3</td>\n",
       "    </tr>\n",
       "  </tbody>\n",
       "</table>\n",
       "</div>"
      ],
      "text/plain": [
       "   User_ID  Frequency\n",
       "0        4          4\n",
       "1       39          5\n",
       "2       81          2\n",
       "3       91          2\n",
       "4      119          3"
      ]
     },
     "execution_count": 20,
     "metadata": {},
     "output_type": "execute_result"
    }
   ],
   "source": [
    "# 2. Calculate Frequency\n",
    "frequency = df[df['Behavior'] == 'Buy'].groupby('User_ID')['Behavior'].count().reset_index()\n",
    "frequency.columns = ['User_ID', 'Frequency']\n",
    "frequency.head()"
   ]
  },
  {
   "cell_type": "code",
   "execution_count": 21,
   "id": "6164b615",
   "metadata": {},
   "outputs": [
    {
     "data": {
      "text/html": [
       "<div>\n",
       "<style scoped>\n",
       "    .dataframe tbody tr th:only-of-type {\n",
       "        vertical-align: middle;\n",
       "    }\n",
       "\n",
       "    .dataframe tbody tr th {\n",
       "        vertical-align: top;\n",
       "    }\n",
       "\n",
       "    .dataframe thead th {\n",
       "        text-align: right;\n",
       "    }\n",
       "</style>\n",
       "<table border=\"1\" class=\"dataframe\">\n",
       "  <thead>\n",
       "    <tr style=\"text-align: right;\">\n",
       "      <th></th>\n",
       "      <th>User_ID</th>\n",
       "      <th>Recency</th>\n",
       "      <th>Frequency</th>\n",
       "    </tr>\n",
       "  </thead>\n",
       "  <tbody>\n",
       "    <tr>\n",
       "      <th>0</th>\n",
       "      <td>4</td>\n",
       "      <td>3</td>\n",
       "      <td>4</td>\n",
       "    </tr>\n",
       "    <tr>\n",
       "      <th>1</th>\n",
       "      <td>39</td>\n",
       "      <td>1</td>\n",
       "      <td>5</td>\n",
       "    </tr>\n",
       "    <tr>\n",
       "      <th>2</th>\n",
       "      <td>81</td>\n",
       "      <td>4</td>\n",
       "      <td>2</td>\n",
       "    </tr>\n",
       "    <tr>\n",
       "      <th>3</th>\n",
       "      <td>91</td>\n",
       "      <td>0</td>\n",
       "      <td>2</td>\n",
       "    </tr>\n",
       "    <tr>\n",
       "      <th>4</th>\n",
       "      <td>119</td>\n",
       "      <td>4</td>\n",
       "      <td>3</td>\n",
       "    </tr>\n",
       "  </tbody>\n",
       "</table>\n",
       "</div>"
      ],
      "text/plain": [
       "   User_ID  Recency  Frequency\n",
       "0        4        3          4\n",
       "1       39        1          5\n",
       "2       81        4          2\n",
       "3       91        0          2\n",
       "4      119        4          3"
      ]
     },
     "execution_count": 21,
     "metadata": {},
     "output_type": "execute_result"
    }
   ],
   "source": [
    "# 3. Create RFM table\n",
    "rfm = recency.merge(frequency, on='User_ID')\n",
    "rfm.drop(columns=['LastPurshaceDate'], inplace=True)\n",
    "rfm.head()"
   ]
  },
  {
   "cell_type": "code",
   "execution_count": 22,
   "id": "7ee51479",
   "metadata": {},
   "outputs": [
    {
     "data": {
      "text/html": [
       "<div>\n",
       "<style scoped>\n",
       "    .dataframe tbody tr th:only-of-type {\n",
       "        vertical-align: middle;\n",
       "    }\n",
       "\n",
       "    .dataframe tbody tr th {\n",
       "        vertical-align: top;\n",
       "    }\n",
       "\n",
       "    .dataframe thead th {\n",
       "        text-align: right;\n",
       "    }\n",
       "</style>\n",
       "<table border=\"1\" class=\"dataframe\">\n",
       "  <thead>\n",
       "    <tr style=\"text-align: right;\">\n",
       "      <th></th>\n",
       "      <th>User_ID</th>\n",
       "      <th>Recency</th>\n",
       "      <th>Frequency</th>\n",
       "      <th>R_score</th>\n",
       "      <th>F_score</th>\n",
       "    </tr>\n",
       "  </thead>\n",
       "  <tbody>\n",
       "    <tr>\n",
       "      <th>0</th>\n",
       "      <td>4</td>\n",
       "      <td>3</td>\n",
       "      <td>4</td>\n",
       "      <td>2</td>\n",
       "      <td>3</td>\n",
       "    </tr>\n",
       "    <tr>\n",
       "      <th>1</th>\n",
       "      <td>39</td>\n",
       "      <td>1</td>\n",
       "      <td>5</td>\n",
       "      <td>4</td>\n",
       "      <td>4</td>\n",
       "    </tr>\n",
       "    <tr>\n",
       "      <th>2</th>\n",
       "      <td>81</td>\n",
       "      <td>4</td>\n",
       "      <td>2</td>\n",
       "      <td>2</td>\n",
       "      <td>2</td>\n",
       "    </tr>\n",
       "    <tr>\n",
       "      <th>3</th>\n",
       "      <td>91</td>\n",
       "      <td>0</td>\n",
       "      <td>2</td>\n",
       "      <td>4</td>\n",
       "      <td>2</td>\n",
       "    </tr>\n",
       "    <tr>\n",
       "      <th>4</th>\n",
       "      <td>119</td>\n",
       "      <td>4</td>\n",
       "      <td>3</td>\n",
       "      <td>2</td>\n",
       "      <td>3</td>\n",
       "    </tr>\n",
       "  </tbody>\n",
       "</table>\n",
       "</div>"
      ],
      "text/plain": [
       "   User_ID  Recency  Frequency  R_score  F_score\n",
       "0        4        3          4        2        3\n",
       "1       39        1          5        4        4\n",
       "2       81        4          2        2        2\n",
       "3       91        0          2        4        2\n",
       "4      119        4          3        2        3"
      ]
     },
     "execution_count": 22,
     "metadata": {},
     "output_type": "execute_result"
    }
   ],
   "source": [
    "# 4. Assign R, F quartile values\n",
    "quantiles = rfm.quantile(q=[0.25, 0.5, 0.75])\n",
    "quantiles = quantiles.to_dict()\n",
    "def r_score(x):    \n",
    "    if x <= quantiles['Recency'][0.25]:        \n",
    "        return 4    \n",
    "    elif x <= quantiles['Recency'][0.5]:        \n",
    "        return 3    \n",
    "    elif x <= quantiles['Recency'][0.75]:        \n",
    "        return 2    \n",
    "    else:        \n",
    "        return 1\n",
    "    \n",
    "def f_score(x):    \n",
    "    if x <= quantiles['Frequency'][0.25]:        \n",
    "        return 1    \n",
    "    elif x <= quantiles['Frequency'][0.5]:        \n",
    "        return 2    \n",
    "    elif x <= quantiles['Frequency'][0.75]:        \n",
    "        return 3    \n",
    "    else:        \n",
    "        return 4\n",
    "\n",
    "rfm['R_score'] = rfm['Recency'].apply(r_score)\n",
    "rfm['F_score'] = rfm['Frequency'].apply(f_score)\n",
    "rfm.head()"
   ]
  },
  {
   "cell_type": "code",
   "execution_count": 23,
   "id": "c1978b5c",
   "metadata": {},
   "outputs": [],
   "source": [
    "from sklearn.preprocessing import StandardScaler\n",
    "from sklearn.cluster import KMeans"
   ]
  },
  {
   "cell_type": "code",
   "execution_count": 24,
   "id": "26004fe2",
   "metadata": {},
   "outputs": [],
   "source": [
    "rfm_val = rfm[['Recency', 'Frequency']]\n",
    "scaler = StandardScaler()\n",
    "rfm_scaled = scaler.fit(rfm_val)\n",
    "rfm_scaled = scaler.fit_transform(rfm_val)"
   ]
  },
  {
   "cell_type": "code",
   "execution_count": 25,
   "id": "b5954de6",
   "metadata": {},
   "outputs": [
    {
     "data": {
      "text/plain": [
       "<Figure size 600x400 with 0 Axes>"
      ]
     },
     "metadata": {},
     "output_type": "display_data"
    },
    {
     "data": {
      "image/png": "[encoded data removed]",
      "text/plain": [
       "<Figure size 600x400 with 1 Axes>"
      ]
     },
     "metadata": {},
     "output_type": "display_data"
    }
   ],
   "source": [
    "# determine the number of clusters using Elbow method\n",
    "plt.figure(figsize=(6, 4))\n",
    "inertia = []\n",
    "# Calculate inertia for different number of clusters\n",
    "for k in range(1, 13):\n",
    "    kmeans = KMeans(n_clusters=k, random_state=42)\n",
    "    kmeans.fit(rfm_scaled)\n",
    "    inertia.append(kmeans.inertia_)\n",
    "\n",
    "plt.figure(figsize=(6, 4))\n",
    "plt.plot(range(1, 13), inertia, marker='o')\n",
    "plt.title('Elbow Method For Optimal k')\n",
    "plt.xlabel('Number of clusters (k)')\n",
    "plt.ylabel('Inertia')\n",
    "plt.xticks(range(1, 13))\n",
    "plt.grid(True)\n",
    "plt.savefig('Elbow_Plot.png')\n",
    "plt.show()"
   ]
  },
  {
   "cell_type": "markdown",
   "id": "926232ef",
   "metadata": {},
   "source": [
    "Choose K = 3"
   ]
  },
  {
   "cell_type": "code",
   "execution_count": 26,
   "id": "3b774b67",
   "metadata": {},
   "outputs": [
    {
     "data": {
      "text/html": [
       "<div>\n",
       "<style scoped>\n",
       "    .dataframe tbody tr th:only-of-type {\n",
       "        vertical-align: middle;\n",
       "    }\n",
       "\n",
       "    .dataframe tbody tr th {\n",
       "        vertical-align: top;\n",
       "    }\n",
       "\n",
       "    .dataframe thead th {\n",
       "        text-align: right;\n",
       "    }\n",
       "</style>\n",
       "<table border=\"1\" class=\"dataframe\">\n",
       "  <thead>\n",
       "    <tr style=\"text-align: right;\">\n",
       "      <th></th>\n",
       "      <th>User_ID</th>\n",
       "      <th>Recency</th>\n",
       "      <th>Frequency</th>\n",
       "      <th>R_score</th>\n",
       "      <th>F_score</th>\n",
       "      <th>Cluster</th>\n",
       "    </tr>\n",
       "  </thead>\n",
       "  <tbody>\n",
       "    <tr>\n",
       "      <th>0</th>\n",
       "      <td>4</td>\n",
       "      <td>3</td>\n",
       "      <td>4</td>\n",
       "      <td>2</td>\n",
       "      <td>3</td>\n",
       "      <td>1</td>\n",
       "    </tr>\n",
       "    <tr>\n",
       "      <th>1</th>\n",
       "      <td>39</td>\n",
       "      <td>1</td>\n",
       "      <td>5</td>\n",
       "      <td>4</td>\n",
       "      <td>4</td>\n",
       "      <td>1</td>\n",
       "    </tr>\n",
       "    <tr>\n",
       "      <th>2</th>\n",
       "      <td>81</td>\n",
       "      <td>4</td>\n",
       "      <td>2</td>\n",
       "      <td>2</td>\n",
       "      <td>2</td>\n",
       "      <td>2</td>\n",
       "    </tr>\n",
       "    <tr>\n",
       "      <th>3</th>\n",
       "      <td>91</td>\n",
       "      <td>0</td>\n",
       "      <td>2</td>\n",
       "      <td>4</td>\n",
       "      <td>2</td>\n",
       "      <td>1</td>\n",
       "    </tr>\n",
       "    <tr>\n",
       "      <th>4</th>\n",
       "      <td>119</td>\n",
       "      <td>4</td>\n",
       "      <td>3</td>\n",
       "      <td>2</td>\n",
       "      <td>3</td>\n",
       "      <td>2</td>\n",
       "    </tr>\n",
       "  </tbody>\n",
       "</table>\n",
       "</div>"
      ],
      "text/plain": [
       "   User_ID  Recency  Frequency  R_score  F_score  Cluster\n",
       "0        4        3          4        2        3        1\n",
       "1       39        1          5        4        4        1\n",
       "2       81        4          2        2        2        2\n",
       "3       91        0          2        4        2        1\n",
       "4      119        4          3        2        3        2"
      ]
     },
     "execution_count": 26,
     "metadata": {},
     "output_type": "execute_result"
    }
   ],
   "source": [
    "kmeans_scaled = KMeans(3)\n",
    "kmeans_scaled.fit(rfm_scaled)\n",
    "identified_clusters = kmeans_scaled.fit_predict(rfm_val)\n",
    "rfm['Cluster'] = kmeans_scaled.fit_predict(rfm_scaled)\n",
    "rfm.head()"
   ]
  },
  {
   "cell_type": "code",
   "execution_count": 27,
   "id": "3f147403",
   "metadata": {},
   "outputs": [],
   "source": [
    "# Filter the original dataset based on cluster labels\n",
    "cluster_0 = rfm[rfm['Cluster'] == 0]\n",
    "cluster_1 = rfm[rfm['Cluster'] == 1]\n",
    "cluster_2 = rfm[rfm['Cluster'] == 2]"
   ]
  },
  {
   "cell_type": "code",
   "execution_count": 28,
   "id": "33c436b5",
   "metadata": {},
   "outputs": [
    {
     "data": {
      "text/html": [
       "<div>\n",
       "<style scoped>\n",
       "    .dataframe tbody tr th:only-of-type {\n",
       "        vertical-align: middle;\n",
       "    }\n",
       "\n",
       "    .dataframe tbody tr th {\n",
       "        vertical-align: top;\n",
       "    }\n",
       "\n",
       "    .dataframe thead th {\n",
       "        text-align: right;\n",
       "    }\n",
       "</style>\n",
       "<table border=\"1\" class=\"dataframe\">\n",
       "  <thead>\n",
       "    <tr style=\"text-align: right;\">\n",
       "      <th></th>\n",
       "      <th>User_ID</th>\n",
       "      <th>Recency</th>\n",
       "      <th>Frequency</th>\n",
       "      <th>R_score</th>\n",
       "      <th>F_score</th>\n",
       "      <th>Cluster</th>\n",
       "    </tr>\n",
       "  </thead>\n",
       "  <tbody>\n",
       "    <tr>\n",
       "      <th>count</th>\n",
       "      <td>3.913000e+03</td>\n",
       "      <td>3913.000000</td>\n",
       "      <td>3913.000000</td>\n",
       "      <td>3913.000000</td>\n",
       "      <td>3913.0</td>\n",
       "      <td>3913.0</td>\n",
       "    </tr>\n",
       "    <tr>\n",
       "      <th>mean</th>\n",
       "      <td>5.134071e+05</td>\n",
       "      <td>1.098646</td>\n",
       "      <td>8.700741</td>\n",
       "      <td>3.520572</td>\n",
       "      <td>4.0</td>\n",
       "      <td>0.0</td>\n",
       "    </tr>\n",
       "    <tr>\n",
       "      <th>std</th>\n",
       "      <td>2.912062e+05</td>\n",
       "      <td>1.371817</td>\n",
       "      <td>4.271660</td>\n",
       "      <td>0.818778</td>\n",
       "      <td>0.0</td>\n",
       "      <td>0.0</td>\n",
       "    </tr>\n",
       "    <tr>\n",
       "      <th>min</th>\n",
       "      <td>1.310000e+02</td>\n",
       "      <td>0.000000</td>\n",
       "      <td>6.000000</td>\n",
       "      <td>1.000000</td>\n",
       "      <td>4.0</td>\n",
       "      <td>0.0</td>\n",
       "    </tr>\n",
       "    <tr>\n",
       "      <th>25%</th>\n",
       "      <td>2.627530e+05</td>\n",
       "      <td>0.000000</td>\n",
       "      <td>6.000000</td>\n",
       "      <td>3.000000</td>\n",
       "      <td>4.0</td>\n",
       "      <td>0.0</td>\n",
       "    </tr>\n",
       "    <tr>\n",
       "      <th>50%</th>\n",
       "      <td>5.219740e+05</td>\n",
       "      <td>1.000000</td>\n",
       "      <td>7.000000</td>\n",
       "      <td>4.000000</td>\n",
       "      <td>4.0</td>\n",
       "      <td>0.0</td>\n",
       "    </tr>\n",
       "    <tr>\n",
       "      <th>75%</th>\n",
       "      <td>7.599040e+05</td>\n",
       "      <td>2.000000</td>\n",
       "      <td>10.000000</td>\n",
       "      <td>4.000000</td>\n",
       "      <td>4.0</td>\n",
       "      <td>0.0</td>\n",
       "    </tr>\n",
       "    <tr>\n",
       "      <th>max</th>\n",
       "      <td>1.017726e+06</td>\n",
       "      <td>8.000000</td>\n",
       "      <td>90.000000</td>\n",
       "      <td>4.000000</td>\n",
       "      <td>4.0</td>\n",
       "      <td>0.0</td>\n",
       "    </tr>\n",
       "  </tbody>\n",
       "</table>\n",
       "</div>"
      ],
      "text/plain": [
       "            User_ID      Recency    Frequency      R_score  F_score  Cluster\n",
       "count  3.913000e+03  3913.000000  3913.000000  3913.000000   3913.0   3913.0\n",
       "mean   5.134071e+05     1.098646     8.700741     3.520572      4.0      0.0\n",
       "std    2.912062e+05     1.371817     4.271660     0.818778      0.0      0.0\n",
       "min    1.310000e+02     0.000000     6.000000     1.000000      4.0      0.0\n",
       "25%    2.627530e+05     0.000000     6.000000     3.000000      4.0      0.0\n",
       "50%    5.219740e+05     1.000000     7.000000     4.000000      4.0      0.0\n",
       "75%    7.599040e+05     2.000000    10.000000     4.000000      4.0      0.0\n",
       "max    1.017726e+06     8.000000    90.000000     4.000000      4.0      0.0"
      ]
     },
     "execution_count": 28,
     "metadata": {},
     "output_type": "execute_result"
    }
   ],
   "source": [
    "cluster_0.describe()"
   ]
  },
  {
   "cell_type": "code",
   "execution_count": null,
   "id": "1cd28593",
   "metadata": {},
   "outputs": [],
   "source": [
    "def categorize_customers(row):    \n",
    "    if row['Cluster'] == 0:        \n",
    "        return 'Churn Risk Customers'    \n",
    "    elif row['Cluster'] == 1:        \n",
    "        return 'Potential Customers'    \n",
    "    elif row['Cluster'] == 2:        \n",
    "        return 'High-Value Customers'\n",
    "\n",
    "rfm['class'] = rfm.apply(categorize_customers, axis=1)"
   ]
  },
  {
   "cell_type": "code",
   "execution_count": 30,
   "id": "24cdade7",
   "metadata": {},
   "outputs": [
    {
     "data": {
      "text/html": [
       "<div>\n",
       "<style scoped>\n",
       "    .dataframe tbody tr th:only-of-type {\n",
       "        vertical-align: middle;\n",
       "    }\n",
       "\n",
       "    .dataframe tbody tr th {\n",
       "        vertical-align: top;\n",
       "    }\n",
       "\n",
       "    .dataframe thead th {\n",
       "        text-align: right;\n",
       "    }\n",
       "</style>\n",
       "<table border=\"1\" class=\"dataframe\">\n",
       "  <thead>\n",
       "    <tr style=\"text-align: right;\">\n",
       "      <th></th>\n",
       "      <th>User_ID</th>\n",
       "      <th>Recency</th>\n",
       "      <th>Frequency</th>\n",
       "      <th>R_score</th>\n",
       "      <th>F_score</th>\n",
       "      <th>Cluster</th>\n",
       "      <th>class</th>\n",
       "    </tr>\n",
       "  </thead>\n",
       "  <tbody>\n",
       "    <tr>\n",
       "      <th>0</th>\n",
       "      <td>4</td>\n",
       "      <td>3</td>\n",
       "      <td>4</td>\n",
       "      <td>2</td>\n",
       "      <td>3</td>\n",
       "      <td>1</td>\n",
       "      <td>Potential Customers</td>\n",
       "    </tr>\n",
       "    <tr>\n",
       "      <th>1</th>\n",
       "      <td>39</td>\n",
       "      <td>1</td>\n",
       "      <td>5</td>\n",
       "      <td>4</td>\n",
       "      <td>4</td>\n",
       "      <td>1</td>\n",
       "      <td>Potential Customers</td>\n",
       "    </tr>\n",
       "    <tr>\n",
       "      <th>2</th>\n",
       "      <td>81</td>\n",
       "      <td>4</td>\n",
       "      <td>2</td>\n",
       "      <td>2</td>\n",
       "      <td>2</td>\n",
       "      <td>2</td>\n",
       "      <td>High-Value Customers</td>\n",
       "    </tr>\n",
       "    <tr>\n",
       "      <th>3</th>\n",
       "      <td>91</td>\n",
       "      <td>0</td>\n",
       "      <td>2</td>\n",
       "      <td>4</td>\n",
       "      <td>2</td>\n",
       "      <td>1</td>\n",
       "      <td>Potential Customers</td>\n",
       "    </tr>\n",
       "    <tr>\n",
       "      <th>4</th>\n",
       "      <td>119</td>\n",
       "      <td>4</td>\n",
       "      <td>3</td>\n",
       "      <td>2</td>\n",
       "      <td>3</td>\n",
       "      <td>2</td>\n",
       "      <td>High-Value Customers</td>\n",
       "    </tr>\n",
       "  </tbody>\n",
       "</table>\n",
       "</div>"
      ],
      "text/plain": [
       "   User_ID  Recency  Frequency  R_score  F_score  Cluster  \\\n",
       "0        4        3          4        2        3        1   \n",
       "1       39        1          5        4        4        1   \n",
       "2       81        4          2        2        2        2   \n",
       "3       91        0          2        4        2        1   \n",
       "4      119        4          3        2        3        2   \n",
       "\n",
       "                  class  \n",
       "0   Potential Customers  \n",
       "1   Potential Customers  \n",
       "2  High-Value Customers  \n",
       "3   Potential Customers  \n",
       "4  High-Value Customers  "
      ]
     },
     "execution_count": 30,
     "metadata": {},
     "output_type": "execute_result"
    }
   ],
   "source": [
    "rfm.head()"
   ]
  },
  {
   "cell_type": "code",
   "execution_count": 31,
   "id": "d1d7a170",
   "metadata": {},
   "outputs": [
    {
     "data": {
      "text/html": [
       "<div>\n",
       "<style scoped>\n",
       "    .dataframe tbody tr th:only-of-type {\n",
       "        vertical-align: middle;\n",
       "    }\n",
       "\n",
       "    .dataframe tbody tr th {\n",
       "        vertical-align: top;\n",
       "    }\n",
       "\n",
       "    .dataframe thead th {\n",
       "        text-align: right;\n",
       "    }\n",
       "</style>\n",
       "<table border=\"1\" class=\"dataframe\">\n",
       "  <thead>\n",
       "    <tr style=\"text-align: right;\">\n",
       "      <th></th>\n",
       "      <th>Customer Class</th>\n",
       "      <th>Counts</th>\n",
       "    </tr>\n",
       "  </thead>\n",
       "  <tbody>\n",
       "    <tr>\n",
       "      <th>0</th>\n",
       "      <td>Churn Risk Customers</td>\n",
       "      <td>3913</td>\n",
       "    </tr>\n",
       "    <tr>\n",
       "      <th>1</th>\n",
       "      <td>High-Value Customers</td>\n",
       "      <td>10427</td>\n",
       "    </tr>\n",
       "    <tr>\n",
       "      <th>2</th>\n",
       "      <td>Potential Customers</td>\n",
       "      <td>19230</td>\n",
       "    </tr>\n",
       "  </tbody>\n",
       "</table>\n",
       "</div>"
      ],
      "text/plain": [
       "         Customer Class  Counts\n",
       "0  Churn Risk Customers    3913\n",
       "1  High-Value Customers   10427\n",
       "2   Potential Customers   19230"
      ]
     },
     "execution_count": 31,
     "metadata": {},
     "output_type": "execute_result"
    }
   ],
   "source": [
    "customer_class = rfm.groupby('class')['User_ID'].count().reset_index()\n",
    "customer_class.columns = ['Customer Class', 'Counts']\n",
    "customer_class.head()"
   ]
  },
  {
   "cell_type": "code",
   "execution_count": 32,
   "id": "c285f1bd",
   "metadata": {},
   "outputs": [
    {
     "data": {
      "image/png": "[encoded data removed]",
      "text/plain": [
       "<Figure size 400x400 with 1 Axes>"
      ]
     },
     "metadata": {},
     "output_type": "display_data"
    }
   ],
   "source": [
    "plt.figure(figsize=(4, 4))\n",
    "plt.pie(customer_class['Counts'], labels=customer_class['Customer Class'], autopct='%1.1f%%', explode=[0.05]*3)\n",
    "plt.title('RFM Analysis', fontsize=15)\n",
    "plt.savefig('RFM Analysis.png', format='png', bbox_inches='tight')\n",
    "plt.show()"
   ]
  },
  {
   "cell_type": "markdown",
   "id": "b7d10afe",
   "metadata": {},
   "source": [
    "### Predictive Behavior Modeling"
   ]
  },
  {
   "cell_type": "code",
   "execution_count": 33,
   "id": "dfe09ba0",
   "metadata": {},
   "outputs": [],
   "source": [
    "import torch\n",
    "import torch.nn as nn\n",
    "import torch.optim as optim\n",
    "from torch.utils.data import Dataset, DataLoader\n",
    "from sklearn.model_selection import train_test_split\n",
    "from torch.nn.utils.rnn import pack_padded_sequence, pad_packed_sequence\n",
    "from tqdm import tqdm\n",
    "from sklearn.metrics import accuracy_score"
   ]
  },
  {
   "cell_type": "code",
   "execution_count": 34,
   "id": "43efc4a6",
   "metadata": {},
   "outputs": [
    {
     "data": {
      "text/html": [
       "<div>\n",
       "<style scoped>\n",
       "    .dataframe tbody tr th:only-of-type {\n",
       "        vertical-align: middle;\n",
       "    }\n",
       "\n",
       "    .dataframe tbody tr th {\n",
       "        vertical-align: top;\n",
       "    }\n",
       "\n",
       "    .dataframe thead th {\n",
       "        text-align: right;\n",
       "    }\n",
       "</style>\n",
       "<table border=\"1\" class=\"dataframe\">\n",
       "  <thead>\n",
       "    <tr style=\"text-align: right;\">\n",
       "      <th></th>\n",
       "      <th>User_ID</th>\n",
       "      <th>Product_ID</th>\n",
       "      <th>Category_ID</th>\n",
       "      <th>Behavior</th>\n",
       "      <th>Timestamp</th>\n",
       "      <th>Datetime</th>\n",
       "      <th>Hour</th>\n",
       "      <th>Day_of_Week</th>\n",
       "      <th>Date</th>\n",
       "      <th>Behavior_Count</th>\n",
       "    </tr>\n",
       "  </thead>\n",
       "  <tbody>\n",
       "    <tr>\n",
       "      <th>0</th>\n",
       "      <td>4</td>\n",
       "      <td>4060948</td>\n",
       "      <td>2465336</td>\n",
       "      <td>PageView</td>\n",
       "      <td>1511865022</td>\n",
       "      <td>2017-11-28 17:30:22+07:00</td>\n",
       "      <td>17</td>\n",
       "      <td>Tuesday</td>\n",
       "      <td>2017-11-28</td>\n",
       "      <td>14</td>\n",
       "    </tr>\n",
       "    <tr>\n",
       "      <th>1</th>\n",
       "      <td>4</td>\n",
       "      <td>572096</td>\n",
       "      <td>2465336</td>\n",
       "      <td>PageView</td>\n",
       "      <td>1511865076</td>\n",
       "      <td>2017-11-28 17:31:16+07:00</td>\n",
       "      <td>17</td>\n",
       "      <td>Tuesday</td>\n",
       "      <td>2017-11-28</td>\n",
       "      <td>12</td>\n",
       "    </tr>\n",
       "    <tr>\n",
       "      <th>2</th>\n",
       "      <td>4</td>\n",
       "      <td>4060948</td>\n",
       "      <td>2465336</td>\n",
       "      <td>PageView</td>\n",
       "      <td>1511865219</td>\n",
       "      <td>2017-11-28 17:33:39+07:00</td>\n",
       "      <td>17</td>\n",
       "      <td>Tuesday</td>\n",
       "      <td>2017-11-28</td>\n",
       "      <td>14</td>\n",
       "    </tr>\n",
       "    <tr>\n",
       "      <th>3</th>\n",
       "      <td>4</td>\n",
       "      <td>2102225</td>\n",
       "      <td>4145813</td>\n",
       "      <td>PageView</td>\n",
       "      <td>1511865839</td>\n",
       "      <td>2017-11-28 17:43:59+07:00</td>\n",
       "      <td>17</td>\n",
       "      <td>Tuesday</td>\n",
       "      <td>2017-11-28</td>\n",
       "      <td>13</td>\n",
       "    </tr>\n",
       "    <tr>\n",
       "      <th>4</th>\n",
       "      <td>4</td>\n",
       "      <td>2102225</td>\n",
       "      <td>4145813</td>\n",
       "      <td>PageView</td>\n",
       "      <td>1511866131</td>\n",
       "      <td>2017-11-28 17:48:51+07:00</td>\n",
       "      <td>17</td>\n",
       "      <td>Tuesday</td>\n",
       "      <td>2017-11-28</td>\n",
       "      <td>13</td>\n",
       "    </tr>\n",
       "  </tbody>\n",
       "</table>\n",
       "</div>"
      ],
      "text/plain": [
       "   User_ID  Product_ID  Category_ID  Behavior   Timestamp  \\\n",
       "0        4     4060948      2465336  PageView  1511865022   \n",
       "1        4      572096      2465336  PageView  1511865076   \n",
       "2        4     4060948      2465336  PageView  1511865219   \n",
       "3        4     2102225      4145813  PageView  1511865839   \n",
       "4        4     2102225      4145813  PageView  1511866131   \n",
       "\n",
       "                   Datetime  Hour Day_of_Week        Date  Behavior_Count  \n",
       "0 2017-11-28 17:30:22+07:00    17     Tuesday  2017-11-28              14  \n",
       "1 2017-11-28 17:31:16+07:00    17     Tuesday  2017-11-28              12  \n",
       "2 2017-11-28 17:33:39+07:00    17     Tuesday  2017-11-28              14  \n",
       "3 2017-11-28 17:43:59+07:00    17     Tuesday  2017-11-28              13  \n",
       "4 2017-11-28 17:48:51+07:00    17     Tuesday  2017-11-28              13  "
      ]
     },
     "execution_count": 34,
     "metadata": {},
     "output_type": "execute_result"
    }
   ],
   "source": [
    "df_time = df.sort_values(by=['User_ID', 'Datetime'])\n",
    "behavior_count = df_time.groupby(['Product_ID', 'User_ID'])['Behavior'].size().reset_index(name='Behavior_Count')\n",
    "filtered_bc = behavior_count[behavior_count['Behavior_Count'] >= 5]\n",
    "df_filtered = df_time.merge(filtered_bc, on=['Product_ID', 'User_ID'])\n",
    "df_filtered.head()"
   ]
  },
  {
   "cell_type": "code",
   "execution_count": 35,
   "id": "cfdc8686",
   "metadata": {},
   "outputs": [
    {
     "data": {
      "text/html": [
       "<div>\n",
       "<style scoped>\n",
       "    .dataframe tbody tr th:only-of-type {\n",
       "        vertical-align: middle;\n",
       "    }\n",
       "\n",
       "    .dataframe tbody tr th {\n",
       "        vertical-align: top;\n",
       "    }\n",
       "\n",
       "    .dataframe thead th {\n",
       "        text-align: right;\n",
       "    }\n",
       "</style>\n",
       "<table border=\"1\" class=\"dataframe\">\n",
       "  <thead>\n",
       "    <tr style=\"text-align: right;\">\n",
       "      <th></th>\n",
       "      <th>User_ID</th>\n",
       "      <th>Sequence</th>\n",
       "    </tr>\n",
       "  </thead>\n",
       "  <tbody>\n",
       "    <tr>\n",
       "      <th>0</th>\n",
       "      <td>85537</td>\n",
       "      <td>[AddToCart, AddToCart, PageView, PageView, Pag...</td>\n",
       "    </tr>\n",
       "    <tr>\n",
       "      <th>1</th>\n",
       "      <td>13004</td>\n",
       "      <td>[PageView, PageView, Buy, PageView, PageView, ...</td>\n",
       "    </tr>\n",
       "    <tr>\n",
       "      <th>2</th>\n",
       "      <td>162599</td>\n",
       "      <td>[PageView, PageView, PageView, PageView, PageV...</td>\n",
       "    </tr>\n",
       "    <tr>\n",
       "      <th>3</th>\n",
       "      <td>380719</td>\n",
       "      <td>[Favorite, PageView, PageView, PageView, PageV...</td>\n",
       "    </tr>\n",
       "    <tr>\n",
       "      <th>4</th>\n",
       "      <td>641658</td>\n",
       "      <td>[PageView, PageView, PageView, PageView, PageV...</td>\n",
       "    </tr>\n",
       "  </tbody>\n",
       "</table>\n",
       "</div>"
      ],
      "text/plain": [
       "   User_ID                                           Sequence\n",
       "0    85537  [AddToCart, AddToCart, PageView, PageView, Pag...\n",
       "1    13004  [PageView, PageView, Buy, PageView, PageView, ...\n",
       "2   162599  [PageView, PageView, PageView, PageView, PageV...\n",
       "3   380719  [Favorite, PageView, PageView, PageView, PageV...\n",
       "4   641658  [PageView, PageView, PageView, PageView, PageV..."
      ]
     },
     "execution_count": 35,
     "metadata": {},
     "output_type": "execute_result"
    }
   ],
   "source": [
    "sequence = df_filtered.groupby(['Product_ID', 'User_ID'])['Behavior'].apply(list).reset_index(name='Sequence')\n",
    "sequence.drop(columns=['Product_ID'], inplace=True)\n",
    "sequence.head()"
   ]
  },
  {
   "cell_type": "code",
   "execution_count": 36,
   "id": "ddb86b0f",
   "metadata": {},
   "outputs": [],
   "source": [
    "sequence_train, sequence_test = train_test_split(sequence, test_size=0.2, random_state=42)\n",
    "sequence_val, sequence_test = train_test_split(sequence_test, test_size=0.5, random_state=42)"
   ]
  },
  {
   "cell_type": "code",
   "execution_count": 37,
   "id": "9d697117",
   "metadata": {},
   "outputs": [
    {
     "data": {
      "text/html": [
       "<div>\n",
       "<style scoped>\n",
       "    .dataframe tbody tr th:only-of-type {\n",
       "        vertical-align: middle;\n",
       "    }\n",
       "\n",
       "    .dataframe tbody tr th {\n",
       "        vertical-align: top;\n",
       "    }\n",
       "\n",
       "    .dataframe thead th {\n",
       "        text-align: right;\n",
       "    }\n",
       "</style>\n",
       "<table border=\"1\" class=\"dataframe\">\n",
       "  <thead>\n",
       "    <tr style=\"text-align: right;\">\n",
       "      <th></th>\n",
       "      <th>User_ID</th>\n",
       "      <th>Sequence</th>\n",
       "    </tr>\n",
       "  </thead>\n",
       "  <tbody>\n",
       "    <tr>\n",
       "      <th>10609</th>\n",
       "      <td>791235</td>\n",
       "      <td>[AddToCart, PageView, PageView, PageView, Page...</td>\n",
       "    </tr>\n",
       "    <tr>\n",
       "      <th>52180</th>\n",
       "      <td>673650</td>\n",
       "      <td>[Buy, PageView, PageView, AddToCart, PageView]</td>\n",
       "    </tr>\n",
       "    <tr>\n",
       "      <th>27184</th>\n",
       "      <td>25576</td>\n",
       "      <td>[AddToCart, AddToCart, PageView, PageView, Pag...</td>\n",
       "    </tr>\n",
       "    <tr>\n",
       "      <th>48179</th>\n",
       "      <td>278487</td>\n",
       "      <td>[PageView, PageView, PageView, Buy, PageView, ...</td>\n",
       "    </tr>\n",
       "    <tr>\n",
       "      <th>61654</th>\n",
       "      <td>35204</td>\n",
       "      <td>[AddToCart, PageView, PageView, PageView, Page...</td>\n",
       "    </tr>\n",
       "  </tbody>\n",
       "</table>\n",
       "</div>"
      ],
      "text/plain": [
       "       User_ID                                           Sequence\n",
       "10609   791235  [AddToCart, PageView, PageView, PageView, Page...\n",
       "52180   673650     [Buy, PageView, PageView, AddToCart, PageView]\n",
       "27184    25576  [AddToCart, AddToCart, PageView, PageView, Pag...\n",
       "48179   278487  [PageView, PageView, PageView, Buy, PageView, ...\n",
       "61654    35204  [AddToCart, PageView, PageView, PageView, Page..."
      ]
     },
     "execution_count": 37,
     "metadata": {},
     "output_type": "execute_result"
    }
   ],
   "source": [
    "sequence_train.head()"
   ]
  },
  {
   "cell_type": "code",
   "execution_count": null,
   "id": "e4920c35",
   "metadata": {},
   "outputs": [],
   "source": [
    "PADDING_IDX = 4\n",
    "class UserBehaviorDataset(Dataset):    \n",
    "    def __init__(self, dataframe):        \n",
    "        self.dataframe = dataframe        \n",
    "        self.token_to_idx = {'PageView': 0, 'AddToCart': 1, 'Buy': 2, 'Favorite': 3,  'Padding': PADDING_IDX}    \n",
    "    \n",
    "    def __len__(self):        \n",
    "        return len(self.dataframe)\n",
    "    \n",
    "    def __getitem__(self, idx):       \n",
    "        sequence = self.dataframe.iloc[idx, 1]        \n",
    "        sequence_idx = [self.token_to_idx[action] for action in sequence]        \n",
    "        return torch.tensor(sequence_idx), torch.tensor(len(sequence_idx))\n",
    "        \n",
    "def pad_collate(batch):    \n",
    "    (xx, yy) = zip(*batch)    \n",
    "    x_lens = torch.tensor(yy)    \n",
    "    xx_pad = torch.nn.utils.rnn.pad_sequence(xx, batch_first=True, padding_value=PADDING_IDX)    \n",
    "    return xx_pad, x_lens\n",
    "\n",
    "train_dataset = UserBehaviorDataset(sequence_train)\n",
    "val_dataset = UserBehaviorDataset(sequence_val)\n",
    "device = torch.device(\"cuda:0\" if torch.cuda.is_available() else \"cpu\")\n",
    "train_loader = DataLoader(train_dataset, batch_size=32, shuffle=True, collate_fn=pad_collate)\n",
    "val_loader = DataLoader(val_dataset, batch_size=32, shuffle=False, collate_fn=pad_collate)\n",
    "\n"
   ]
  },
  {
   "cell_type": "code",
   "execution_count": null,
   "id": "b71113ae",
   "metadata": {},
   "outputs": [
    {
     "name": "stderr",
     "output_type": "stream",
     "text": [
      "  0%|          | 0/1588 [00:00<?, ?it/s]"
     ]
    },
    {
     "name": "stderr",
     "output_type": "stream",
     "text": [
      "100%|██████████| 1588/1588 [00:12<00:00, 128.60it/s]\n"
     ]
    },
    {
     "name": "stdout",
     "output_type": "stream",
     "text": [
      "Epoch 0: Avg. Validation Loss: 1.1574950299039863e-05\n"
     ]
    },
    {
     "name": "stderr",
     "output_type": "stream",
     "text": [
      "100%|██████████| 1588/1588 [00:12<00:00, 124.34it/s]\n"
     ]
    },
    {
     "name": "stdout",
     "output_type": "stream",
     "text": [
      "Epoch 1: Avg. Validation Loss: 2.781345004556746e-06\n"
     ]
    },
    {
     "name": "stderr",
     "output_type": "stream",
     "text": [
      "100%|██████████| 1588/1588 [00:10<00:00, 152.52it/s]\n"
     ]
    },
    {
     "name": "stdout",
     "output_type": "stream",
     "text": [
      "Epoch 2: Avg. Validation Loss: 9.917023899517754e-07\n"
     ]
    },
    {
     "name": "stderr",
     "output_type": "stream",
     "text": [
      "100%|██████████| 1588/1588 [00:11<00:00, 139.99it/s]\n"
     ]
    },
    {
     "name": "stdout",
     "output_type": "stream",
     "text": [
      "Epoch 3: Avg. Validation Loss: 3.9852195695560447e-07\n"
     ]
    },
    {
     "name": "stderr",
     "output_type": "stream",
     "text": [
      "100%|██████████| 1588/1588 [00:10<00:00, 151.78it/s]\n"
     ]
    },
    {
     "name": "stdout",
     "output_type": "stream",
     "text": [
      "Epoch 4: Avg. Validation Loss: 1.6458021145357424e-07\n"
     ]
    }
   ],
   "source": [
    "# Hyper-parameters\n",
    "class LSTMBehaviorModel(nn.Module):    \n",
    "    def __init__(self, num_tokens, hidden_size=128, num_layers=2, dropout=0.3):        \n",
    "        super(LSTMBehaviorModel, self).__init__()        \n",
    "        self.hidden_size = hidden_size        \n",
    "        self.num_layers = num_layers        \n",
    "        self.embed = nn.Embedding(num_tokens, hidden_size)        \n",
    "        self.lstm = nn.LSTM(hidden_size, hidden_size, num_layers, batch_first=True, dropout=dropout)     \n",
    "        self.dropout = nn.Dropout(dropout)\n",
    "        self.fc = nn.Linear(hidden_size, num_tokens)\n",
    "\n",
    "    def forward(self, x, x_lens):        \n",
    "        x = self.embed(x)        \n",
    "        packed_x = pack_padded_sequence(x, x_lens.cpu(), batch_first=True, enforce_sorted=False)        \n",
    "        h0 = torch.zeros(self.num_layers, x.size(0), self.hidden_size).to(x.device)        \n",
    "        c0 = torch.zeros(self.num_layers, x.size(0), self.hidden_size).to(x.device)        \n",
    "        packed_out, _ = self.lstm(packed_x, (h0, c0))        \n",
    "        out, _ = pad_packed_sequence(packed_out, batch_first=True)        \n",
    "        out = self.fc(out)        \n",
    "        return out\n",
    "    \n",
    "model = LSTMBehaviorModel(num_tokens=5).to(device)\n",
    "criterion = nn.CrossEntropyLoss(ignore_index=PADDING_IDX, reduction='none').to(device)\n",
    "optimizer = optim.Adam(model.parameters(), lr=0.001)\n",
    "\n",
    "best_val_loss = float('inf')\n",
    "num_epochs = 5  \n",
    "train_loss_list = []\n",
    "val_loss_list = []\n",
    "\n",
    "for epoch in range(num_epochs):    \n",
    "    model.train()    \n",
    "    for x_padded, x_lens in tqdm(train_loader):       \n",
    "        x_padded, x_lens = x_padded.to(device), x_lens.to(device)        \n",
    "        optimizer.zero_grad()        \n",
    "        output = model(x_padded, x_lens)        \n",
    "        loss = criterion(output.view(-1, 5), x_padded.view(-1))        \n",
    "        loss = loss.view(x_padded.size(0), -1).sum(dim=1).mean()        \n",
    "        train_loss_list.append(loss.item())        \n",
    "        loss.backward()        \n",
    "        optimizer.step()    \n",
    "        \n",
    "    model.eval()    \n",
    "    total_val_loss = 0    \n",
    "    with torch.no_grad():        \n",
    "        for x_padded, x_lens in val_loader:            \n",
    "            x_padded, x_lens = x_padded.to(device), x_lens.to(device)            \n",
    "            output = model(x_padded, x_lens)            \n",
    "            val_loss = criterion(output.view(-1, 5), x_padded.view(-1))            \n",
    "            val_loss = val_loss / x_padded.size(0)\n",
    "            val_loss = val_loss.view(x_padded.size(0), -1).sum(dim=1).mean()            \n",
    "            total_val_loss += val_loss.item()    \n",
    "            \n",
    "    avg_val_loss = total_val_loss / len(val_loader)    \n",
    "    print(f\"Epoch {epoch}: Avg. Validation Loss: {avg_val_loss}\")    \n",
    "    if avg_val_loss < best_val_loss:\n",
    "        best_val_loss = avg_val_loss        \n",
    "        torch.save(model.state_dict(), 'best_model.pth')"
   ]
  },
  {
   "cell_type": "code",
   "execution_count": 48,
   "id": "ded423a5",
   "metadata": {},
   "outputs": [
    {
     "data": {
      "image/png": "[encoded data removed]",
      "text/plain": [
       "<Figure size 1000x600 with 1 Axes>"
      ]
     },
     "metadata": {},
     "output_type": "display_data"
    }
   ],
   "source": [
    "# plot training loss curve\n",
    "plt.figure(figsize=(10, 6))\n",
    "plt.plot(list(range(0, len(train_loss_list))), train_loss_list, marker='o', color='b', label='Training Loss')\n",
    "plt.title('Training Loss Curve')\n",
    "plt.xlabel('Steps')\n",
    "plt.ylabel('Loss')\n",
    "plt.legend()\n",
    "plt.savefig(\"loss.png\", dpi=600)\n",
    "plt.show()"
   ]
  },
  {
   "cell_type": "code",
   "execution_count": 49,
   "id": "42e24d9e",
   "metadata": {},
   "outputs": [
    {
     "name": "stdout",
     "output_type": "stream",
     "text": [
      "Test Accuracy: 1.0\n"
     ]
    }
   ],
   "source": [
    "test_df = sequence_test \n",
    "test_dataset = UserBehaviorDataset(test_df)\n",
    "test_loader = DataLoader(test_dataset, batch_size=32, shuffle=False, collate_fn=pad_collate)\n",
    "\n",
    "model.eval()\n",
    "\n",
    "all_predictions = []\n",
    "all_labels = []\n",
    "with torch.no_grad():    \n",
    "    for x_padded, x_lens in test_loader:        \n",
    "        x_padded, x_lens = x_padded.to(device), x_lens.to(device)        \n",
    "        output = model(x_padded, x_lens)        \n",
    "        preds = output.argmax(dim=-1)          \n",
    "        for i, length in enumerate(x_lens):\n",
    "            all_predictions.append(preds[i, length - 1].item())            \n",
    "            all_labels.append(x_padded[i, length - 1].item())\n",
    "\n",
    "accuracy = accuracy_score(all_labels, all_predictions)\n",
    "print(f\"Test Accuracy: {accuracy}\")"
   ]
  },
  {
   "cell_type": "code",
   "execution_count": 51,
   "id": "bf7d6bb7",
   "metadata": {},
   "outputs": [
    {
     "name": "stderr",
     "output_type": "stream",
     "text": [
      "100%|██████████| 1588/1588 [00:09<00:00, 171.73it/s]\n"
     ]
    },
    {
     "name": "stdout",
     "output_type": "stream",
     "text": [
      "Epoch 0: Avg. Validation Loss: 0.0004563073688490906\n"
     ]
    },
    {
     "name": "stderr",
     "output_type": "stream",
     "text": [
      "100%|██████████| 1588/1588 [00:10<00:00, 149.51it/s]\n"
     ]
    },
    {
     "name": "stdout",
     "output_type": "stream",
     "text": [
      "Epoch 1: Avg. Validation Loss: 0.00011377035306436689\n"
     ]
    },
    {
     "name": "stderr",
     "output_type": "stream",
     "text": [
      "100%|██████████| 1588/1588 [00:11<00:00, 140.96it/s]\n"
     ]
    },
    {
     "name": "stdout",
     "output_type": "stream",
     "text": [
      "Epoch 2: Avg. Validation Loss: 4.173512581528759e-05\n"
     ]
    },
    {
     "name": "stderr",
     "output_type": "stream",
     "text": [
      "100%|██████████| 1588/1588 [00:12<00:00, 132.07it/s]\n"
     ]
    },
    {
     "name": "stdout",
     "output_type": "stream",
     "text": [
      "Epoch 3: Avg. Validation Loss: 1.6962107974676422e-05\n"
     ]
    },
    {
     "name": "stderr",
     "output_type": "stream",
     "text": [
      "100%|██████████| 1588/1588 [00:10<00:00, 147.75it/s]\n"
     ]
    },
    {
     "name": "stdout",
     "output_type": "stream",
     "text": [
      "Epoch 4: Avg. Validation Loss: 7.302643998582197e-06\n"
     ]
    }
   ],
   "source": [
    "# rnn\n",
    "device = torch.device(\"cuda:0\" if torch.cuda.is_available() else \"cpu\")\n",
    "class RNNBehaviorModel(nn.Module):    \n",
    "    def __init__(self, num_tokens, hidden_size=128, num_layers=1):        \n",
    "        super(RNNBehaviorModel, self).__init__()        \n",
    "        self.hidden_size = hidden_size        \n",
    "        self.num_layers = num_layers        \n",
    "        self.embed = nn.Embedding(num_tokens, hidden_size)        \n",
    "        self.rnn = nn.RNN(hidden_size, hidden_size, num_layers, batch_first=True)        \n",
    "        self.fc = nn.Linear(hidden_size, num_tokens)    \n",
    "    def forward(self, x, x_lens):        \n",
    "        x = self.embed(x)        \n",
    "        packed_x = pack_padded_sequence(x, x_lens.cpu(), batch_first=True, enforce_sorted=False)        \n",
    "        h0 = torch.zeros(self.num_layers, x.size(0), self.hidden_size).to(x.device)        \n",
    "        packed_out, _ = self.rnn(packed_x, h0)        \n",
    "        out, _ = pad_packed_sequence(packed_out, batch_first=True)        \n",
    "        out = self.fc(out)        \n",
    "        return out\n",
    "\n",
    "model = RNNBehaviorModel(num_tokens=5).to(device)\n",
    "criterion = nn.CrossEntropyLoss(ignore_index=PADDING_IDX, reduction='none').to(device)\n",
    "\n",
    "optimizer = optim.Adam(model.parameters(), lr=0.001)\n",
    "best_val_loss = float('inf')\n",
    "num_epochs = 5\n",
    "\n",
    "for epoch in range(num_epochs):    \n",
    "    model.train()    \n",
    "    for x_padded, x_lens in tqdm(train_loader):        \n",
    "        x_padded, x_lens = x_padded.to(device), x_lens.to(device)        \n",
    "        optimizer.zero_grad()        \n",
    "        output = model(x_padded, x_lens)        \n",
    "        loss = criterion(output.view(-1, 5), x_padded.view(-1))        \n",
    "        #loss = loss / x_padded.size(0)\n",
    "        loss = loss.view(x_padded.size(0), -1).sum(dim=1).mean()        \n",
    "        loss.backward()        \n",
    "        optimizer.step()\n",
    "\n",
    "    model.eval()    \n",
    "    total_val_loss = 0\n",
    "\n",
    "    with torch.no_grad():        \n",
    "        for x_padded, x_lens in val_loader:            \n",
    "            x_padded, x_lens = x_padded.to(device), x_lens.to(device)            \n",
    "            output = model(x_padded, x_lens)            \n",
    "            val_loss = criterion(output.view(-1, 5), x_padded.view(-1))           \n",
    "            val_loss = val_loss.view(x_padded.size(0), -1).sum(dim=1).mean()            \n",
    "            total_val_loss += val_loss.item()\n",
    "\n",
    "    avg_val_loss = total_val_loss / len(val_loader)    \n",
    "    print(f\"Epoch {epoch}: Avg. Validation Loss: {avg_val_loss}\")   \n",
    "    if avg_val_loss < best_val_loss:        \n",
    "        best_val_loss = avg_val_loss        \n",
    "        torch.save(model.state_dict(), 'best_model.pth')"
   ]
  },
  {
   "cell_type": "code",
   "execution_count": 53,
   "id": "5fcd6591",
   "metadata": {},
   "outputs": [
    {
     "name": "stdout",
     "output_type": "stream",
     "text": [
      "Test Accuracy: 0.02739294710327456\n"
     ]
    }
   ],
   "source": [
    "model = RNNBehaviorModel(num_tokens=5).to(device)\n",
    "model.eval()\n",
    "\n",
    "all_predictions = []\n",
    "all_labels = []\n",
    "\n",
    "with torch.no_grad():    \n",
    "    for x_padded, x_lens in test_loader:        \n",
    "        x_padded, x_lens = x_padded.to(device), x_lens.to(device)        \n",
    "        output = model(x_padded, x_lens)        \n",
    "        preds = output.argmax(dim=-1)         \n",
    "        for i, length in enumerate(x_lens):            \n",
    "            all_predictions.append(preds[i, length - 1].item())            \n",
    "            all_labels.append(x_padded[i, length - 1].item())            \n",
    "accuracy = accuracy_score(all_labels, all_predictions)\n",
    "print(f\"Test Accuracy: {accuracy}\")"
   ]
  },
  {
   "cell_type": "code",
   "execution_count": null,
   "id": "8e8e5832",
   "metadata": {},
   "outputs": [
    {
     "name": "stderr",
     "output_type": "stream",
     "text": [
      "25/05/16 02:00:36 WARN Utils: Your hostname, TRONGHUNG resolves to a loopback address: 127.0.1.1; using 192.168.0.104 instead (on interface wlp0s20f3)\n",
      "25/05/16 02:00:36 WARN Utils: Set SPARK_LOCAL_IP if you need to bind to another address\n",
      "Setting default log level to \"WARN\".\n",
      "To adjust logging level use sc.setLogLevel(newLevel). For SparkR, use setLogLevel(newLevel).\n",
      "25/05/16 02:00:37 WARN NativeCodeLoader: Unable to load native-hadoop library for your platform... using builtin-java classes where applicable\n"
     ]
    }
   ],
   "source": [
    "spark = SparkSession.builder \\\n",
    "        .appName(\"UserBehaviorETLPipeline\") \\\n",
    "        .config(\"spark.driver.memory\", \"2g\") \\\n",
    "        .config(\"spark.executor.memory\", \"2g\") \\\n",
    "        .config(\"spark.hadoop.fs.defaultFS\", \"file:///\") \\\n",
    "        .getOrCreate()\n",
    "local_path = \"/home/hungits/Study/DATN/Project/data/raw/UserBehavior.csv\"\n",
    "column_names = [\"User_ID\", \"Product_ID\", \"Category_ID\", \"Behavior\", \"Timestamp\"]\n",
    "df = spark.read.option(\"header\", False).csv(local_path).toDF(*column_names)"
   ]
  },
  {
   "cell_type": "code",
   "execution_count": 3,
   "id": "79cf8dd6",
   "metadata": {},
   "outputs": [],
   "source": [
    "sampled_users_df = df.select(\"User_ID\").distinct().sample(withReplacement=False, fraction=0.01, seed=42)\n",
    "df = df.join(sampled_users_df, on=\"User_ID\", how=\"inner\")"
   ]
  },
  {
   "cell_type": "code",
   "execution_count": 4,
   "id": "bb29c399",
   "metadata": {},
   "outputs": [
    {
     "name": "stderr",
     "output_type": "stream",
     "text": [
      "                                                                                \r"
     ]
    }
   ],
   "source": [
    "path = \"/home/hungits/Study/DATN/Project/data/processed\"\n",
    "df.coalesce(1).write.mode('overwrite').option(\"header\", True).csv(path)"
   ]
  }
 ],
 "metadata": {
  "kernelspec": {
   "display_name": "env",
   "language": "python",
   "name": "python3"
  },
  "language_info": {
   "codemirror_mode": {
    "name": "ipython",
    "version": 3
   },
   "file_extension": ".py",
   "mimetype": "text/x-python",
   "name": "python",
   "nbconvert_exporter": "python",
   "pygments_lexer": "ipython3",
   "version": "3.12.3"
  }
 },
 "nbformat": 4,
 "nbformat_minor": 5
}
